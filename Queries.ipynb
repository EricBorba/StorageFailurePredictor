{
 "cells": [
  {
   "cell_type": "code",
   "execution_count": 1,
   "metadata": {},
   "outputs": [],
   "source": [
    "## reset specific variables (replace regular_expression by the variables of interest)\n",
    "#%reset_selective <regular_expression>\n",
    "\n",
    "# reset all variables\n",
    "%reset -f"
   ]
  },
  {
   "cell_type": "code",
   "execution_count": 3,
   "metadata": {},
   "outputs": [],
   "source": [
    "## Importing libraries\n",
    "\n",
    "from datetime import datetime, date, timedelta\n",
    "from array import *\n",
    "import numpy as np\n",
    "from pathlib import Path\n",
    "import matplotlib.pyplot as plt\n",
    "from pylab import savefig\n",
    "import seaborn as sns\n",
    "import pandas as pd\n",
    "import csv\n",
    "import json\n",
    "import datetime as dt\n",
    "from pymongo import MongoClient\n",
    "from mongoengine import *\n",
    "%matplotlib inline\n",
    "\n"
   ]
  },
  {
   "cell_type": "code",
   "execution_count": 4,
   "metadata": {},
   "outputs": [
    {
     "data": {
      "text/plain": [
       "MongoClient(host=['localhost:27017'], document_class=dict, tz_aware=False, connect=True, read_preference=Primary(), uuidrepresentation=3)"
      ]
     },
     "execution_count": 4,
     "metadata": {},
     "output_type": "execute_result"
    }
   ],
   "source": [
    "## Creating/Connecting Mongo DB instances\n",
    "\n",
    "# Provide the mongodb atlas url to connect python to mongodb using pymongo\n",
    "#CONNECTION_STRING = \"mongodb+srv://<jgu>:<123>@<cluster-jgu>.mongodb.net/SMARTAttributesFilter\"\n",
    "\n",
    "connect(db='SMARTAttributesFilter', alias='SMARTAttributesFilter_alias')\n",
    "\n",
    "connect(db='OverTimeSSDsFailures', alias='OverTimeSSDsFailures_alias')\n",
    "\n",
    "connect(db='AllAppsSSDsFailures', alias='AllAppsSSDsFailures_alias')\n",
    "\n",
    "connect(db='AllAppsSSDsLocation', alias='AllAppsSSDsLocation_alias')\n",
    "\n",
    "connect(db='FailuresAppsLocation', alias='FailuresAppsLocation_alias')\n",
    "\n",
    "connect(db='SMARTAtt_FailuresAppsLocation', alias='SMARTAtt_FailuresAppsLocation_alias')"
   ]
  },
  {
   "cell_type": "code",
   "execution_count": 5,
   "metadata": {},
   "outputs": [],
   "source": [
    "## Setting document schema\n",
    "\n",
    "# SMART attributes and disk information from the 2 years daily sampling dataset (500k disks)\n",
    "class SMARTAtt(Document):\n",
    "     disk_id = FloatField(required=False, default='0')\n",
    "     timestamp = DateTimeField(required=False, default='0')\n",
    "     model_x = StringField(required=False, default='0')\n",
    "     r_sectors = FloatField(required=False, default='0')\n",
    "     u_errors = FloatField(required=False, default='0')\n",
    "     p_failedA = FloatField(required=False, default='0')\n",
    "     p_failedB = FloatField(required=False, default='0')\n",
    "     e_failedA = FloatField(required=False, default='0')\n",
    "     e_failedB = FloatField(required=False, default='0')\n",
    "     n_b_written = FloatField(required=False, default='0')\n",
    "     n_b_read = FloatField(required=False, default='0')\n",
    "     meta = {'db_alias': 'SMARTAttributesFilter_alias'}\n",
    "\n",
    "# Failure time and disk information from the 2 years daily sampling dataset (500k disks)\n",
    "class OverTimeSSDsFailures(Document):\n",
    "     disk_id = FloatField(required=False, default='0')\n",
    "     failure_time = DateTimeField(required=False, default='0')\n",
    "     model_x = StringField(required=False, default='0')\n",
    "     meta = {'db_alias': 'OverTimeSSDsFailures_alias'}\n",
    "\n",
    "# Failure time and disk information (without model) from the full datset (1M disks)\n",
    "class AllAppsSSDsFailures(Document):\n",
    "     disk_id = FloatField(required=False, default='0')\n",
    "     failure_time = DateTimeField(required=False, default='0')\n",
    "     app = StringField(required=False, default='0')\n",
    "     node_id = FloatField(required=False, default='0')\n",
    "     rack_id = FloatField(required=False, default='0')\n",
    "     machine_room_id = FloatField(required=False, default='0')\n",
    "     meta = {'db_alias': 'AllAppsSSDsFailures_alias'}\n",
    "\n",
    "# Apps and disks characteristics from the full dataset (1M disks)\n",
    "class AllAppsSSDsLocation(Document):\n",
    "     disk_id = FloatField(required=False, default='0')\n",
    "     model_y = StringField(required=False, default='0')\n",
    "     app = StringField(required=False, default='0')\n",
    "     node_id = FloatField(required=False, default='0')\n",
    "     rack_id = FloatField(required=False, default='0')\n",
    "     slot_id = FloatField(required=False, default='0')\n",
    "     meta = {'db_alias': 'AllAppsSSDsLocation_alias'}\n",
    "\n",
    "# Merge of OverTimeSSDsFailures and AllAppsSSDsFailures documents\n",
    "class FailuresAppsLocation(Document):\n",
    "     disk_id = FloatField(required=False, default='0')\n",
    "     failure_time = DateTimeField(required=False, default='0')\n",
    "     model_x = StringField(required=False, default='0')\n",
    "     model_y = StringField(required=False, default='0')\n",
    "     app = StringField(required=False, default='0')\n",
    "     node_id = FloatField(required=False, default='0')\n",
    "     rack_id = FloatField(required=False, default='0')\n",
    "     machine_room_id = FloatField(required=False, default='0')\n",
    "     meta = {'db_alias': 'FailuresAppsLocation_alias'}\n",
    "\n",
    "class SMARTAtt_FailuresAppsLocation(Document):\n",
    "     smart_att = ReferenceField(SMARTAtt)\n",
    "     failures_app_location = ReferenceField(FailuresAppsLocation)\n",
    "     meta = {'db_alias': 'SMARTAtt_FailuresAppsLocation_alias'}"
   ]
  },
  {
   "cell_type": "code",
   "execution_count": null,
   "metadata": {},
   "outputs": [],
   "source": [
    "# Closing the connection to the DB\n",
    "\n",
    "#disconnect(alias='SMARTAttributesFilter_alias')\n",
    "\n",
    "#disconnect(alias='FailuresAppsLocation_alias_alias')\n",
    "\n",
    "#disconnect(alias='FailuresAppsLocation_alias_alias')\n",
    "\n",
    "#disconnect(alias='SMARTAtt_FailuresAppsLocation_alias')"
   ]
  },
  {
   "cell_type": "code",
   "execution_count": null,
   "metadata": {},
   "outputs": [],
   "source": [
    "### Some queries in Mongoengine\n",
    "\n",
    "## Creating the object related to the whole collection\n",
    "#failuresAppsLocationTeste = FailuresAppsLocation.objects()\n",
    "\n",
    "## Collecting the applications\n",
    "#apps = FailuresAppsLocation.objects().distinct(\"app\")\n",
    "#print(apps)\n",
    "\n",
    "## Looping inside dcuments, which are filtered for the kind o app\n",
    "#for app_c in apps:\n",
    "#   dataPerApp = FailuresAppsLocation.objects(app=app_c).filter()\n",
    "   #dataPerAppToList = list(dataPerApp)\n",
    "   #dataPerAppDf = pd.DataFrame.from_dict(dataPerAppToList)\n",
    "     \n",
    "#   for doc in dataPerApp:\n",
    "#      arrayForDataPerApp = np.append(arrayForDataPerApp, doc.to_json())\n",
    "\n",
    "##The collection size\n",
    "#len(failuresAppsLocationTeste)\n",
    "\n",
    "## Query if you know something about the document\n",
    "#testando = FailuresAppsLocation.objects(disk_id=\"33722\").get()\n",
    "\n",
    "## Query if you know something about the document\n",
    "#SMARTAttributesTest = SMARTAtt.objects(timestamp=\"2019-12-31\").filter().limit(20)\n",
    "#SMARTAttributesTest = SMARTAtt.objects(timestamp=\"2019-12-31\").filter()\n",
    "\n",
    "## Printing\n",
    "#for i in SMARTAttributesTest:\n",
    "#    print(i.timestamp)\n",
    "    \n",
    "## Deleting all collection\n",
    "#failuresAppsLocationTeste.delete() \n",
    "  \n",
    "##Deleting all collection using for loop\n",
    "#for i in failuresAppsLocationTeste:\n",
    " # i.delete()"
   ]
  },
  {
   "cell_type": "code",
   "execution_count": null,
   "metadata": {},
   "outputs": [],
   "source": [
    "### Some queries pandas\n",
    "\n",
    "## Find an specific line based on a specific value from a column\n",
    "#df_failuresLocationDocumentsJsonMTTF.loc[df_failuresLocationDocumentsJsonMTTF[\"mtff_node\"] == 2] \n",
    "#d1 = data[data[\"City\"] == \"Houston\"]\n",
    "#dataFrame.Reg_Price[i]\n",
    "\n",
    "## Ploting very basic graphs\n",
    "#df.groupby('Sex').sum().plot(kind='bar');\n",
    "#print(df_app)\n",
    "#df_appNode.groupby(['app']).plot(kind='bar')\n",
    "#df.groupby(['Sex', 'Survived'] )['Survived'].count().plot.bar(figsize=(8, 6));"
   ]
  },
  {
   "cell_type": "code",
   "execution_count": 6,
   "metadata": {},
   "outputs": [],
   "source": [
    "# Querying/Reading the OverTimeSSDsFailures database (mongodb) and turning It into a pandas dataframe\n",
    "\n",
    "doc_AlibabaOver_Failurelogs = OverTimeSSDsFailures.objects()\n",
    "\n",
    "jSon_AlibabaOver_Failurelogs = json.loads(doc_AlibabaOver_Failurelogs.to_json())\n",
    "df_AlibabaOver_Failurelogs = pd.DataFrame.from_dict(jSon_AlibabaOver_Failurelogs) \n",
    "\n",
    "# Modifying the mongo db date type to some human-readable type\n",
    "dicDateToString = json.dumps(list(df_AlibabaOver_Failurelogs['failure_time']))\n",
    "dicStringToJson = json.loads(dicDateToString)\n",
    "dicJsonToDf = pd.DataFrame.from_dict(dicStringToJson)\n",
    "df_AlibabaOver_Failurelogs['failure_time'] = dicJsonToDf['$date']"
   ]
  },
  {
   "cell_type": "code",
   "execution_count": 7,
   "metadata": {},
   "outputs": [],
   "source": [
    "# Querying/Reading the AllAppsSSDsFailures database (mongodb) and turning It into a pandas dataframe\n",
    "\n",
    "doc_AlibabaSnapShot_FailuresAppsLocation = AllAppsSSDsFailures.objects()\n",
    "\n",
    "jSon_AlibabaSnapShot_FailuresAppsLocation = json.loads(doc_AlibabaSnapShot_FailuresAppsLocation.to_json())\n",
    "df_AlibabaSnapShot_FailuresAppsLocation = pd.DataFrame.from_dict(jSon_AlibabaSnapShot_FailuresAppsLocation) \n",
    "\n",
    "# Modifying the mongo db date type to some human-readable type\n",
    "dicDateToString = json.dumps(list(df_AlibabaSnapShot_FailuresAppsLocation['failure_time']))\n",
    "dicStringToJson = json.loads(dicDateToString)\n",
    "dicJsonToDf = pd.DataFrame.from_dict(dicStringToJson)\n",
    "df_AlibabaSnapShot_FailuresAppsLocation['failure_time'] = dicJsonToDf['$date']"
   ]
  },
  {
   "cell_type": "code",
   "execution_count": 8,
   "metadata": {},
   "outputs": [],
   "source": [
    "# Querying/Reading the AllAppsSSDsLocation database (mongodb)\n",
    "\n",
    "doc_AlibabaSnapShot_AllAppsSSDsLocation = AllAppsSSDsLocation.objects()\n",
    "\n",
    "jSon_AlibabaSnapShot_AllAppsSSDsLocation = json.loads(doc_AlibabaSnapShot_AllAppsSSDsLocation.to_json())\n",
    "df_AlibabaSnapShot_AllAppsSSDsLocation = pd.DataFrame.from_dict(jSon_AlibabaSnapShot_AllAppsSSDsLocation) "
   ]
  },
  {
   "cell_type": "code",
   "execution_count": 9,
   "metadata": {},
   "outputs": [],
   "source": [
    "# Querying/Reading the FailuresAppsLocation database (mongodb) and turning It into a pandas dataframe - DB which merges both failures dataset\n",
    "\n",
    "doc_MergeDs_FailuresAppsLocation = FailuresAppsLocation.objects()\n",
    "\n",
    "jSon_MergeDs_FailuresAppsLocation = json.loads(doc_MergeDs_FailuresAppsLocation.to_json())\n",
    "df_MergeDs_FailuresAppsLocation = pd.DataFrame.from_dict(jSon_MergeDs_FailuresAppsLocation) \n",
    "\n",
    "# Modifying the mongo db date type to some human-readable type\n",
    "dicDateToString = json.dumps(list(df_MergeDs_FailuresAppsLocation['failure_time']))\n",
    "dicStringToJson = json.loads(dicDateToString)\n",
    "dicJsonToDf = pd.DataFrame.from_dict(dicStringToJson)\n",
    "df_MergeDs_FailuresAppsLocation['failure_time'] = dicJsonToDf['$date']"
   ]
  },
  {
   "cell_type": "code",
   "execution_count": 10,
   "metadata": {},
   "outputs": [],
   "source": [
    "## Converting failure time columns to hours (for SSDs in common dataset)\n",
    "\n",
    "# creating a temporary variable to be used to calculate the general mttf equation approach\n",
    "df_genMTTF_MergeDs_FailuresAppsLocation = df_MergeDs_FailuresAppsLocation\n",
    "\n",
    "## Value representing: 2018-01-01 00:00:00 (starting date from the experiment)\n",
    "#1514764800000\n",
    "\n",
    "#Subctracting by the initial time of the experiment and turning into hours\n",
    "df_genMTTF_MergeDs_FailuresAppsLocation['failure_time'] = df_MergeDs_FailuresAppsLocation.failure_time.sub(1514764800000)\n",
    "df_genMTTF_MergeDs_FailuresAppsLocation['failure_time'] = df_MergeDs_FailuresAppsLocation.failure_time.div(1000)\n",
    "df_genMTTF_MergeDs_FailuresAppsLocation['failure_time'] = df_MergeDs_FailuresAppsLocation.failure_time.div(60)\n",
    "df_genMTTF_MergeDs_FailuresAppsLocation['failure_time'] = df_MergeDs_FailuresAppsLocation.failure_time.div(60)\n",
    "#df_failuresLocationDocumentsJsonMTTF.head(3)"
   ]
  },
  {
   "cell_type": "code",
   "execution_count": 11,
   "metadata": {},
   "outputs": [],
   "source": [
    "## Converting failure time columns to hours (for All failed SSDs dataset)\n",
    "\n",
    "#Subctracting by the initial time of the experiment and turning into hours\n",
    "df_AlibabaSnapShot_FailuresAppsLocation['failure_time'] = df_AlibabaSnapShot_FailuresAppsLocation.failure_time.sub(1514764800000)\n",
    "df_AlibabaSnapShot_FailuresAppsLocation['failure_time'] = df_AlibabaSnapShot_FailuresAppsLocation.failure_time.div(1000)\n",
    "df_AlibabaSnapShot_FailuresAppsLocation['failure_time'] = df_AlibabaSnapShot_FailuresAppsLocation.failure_time.div(60)\n",
    "df_AlibabaSnapShot_FailuresAppsLocation['failure_time'] = df_AlibabaSnapShot_FailuresAppsLocation.failure_time.div(60)\n",
    "#df_AlibabaSnapShot_FailuresAppsLocation.head()"
   ]
  },
  {
   "cell_type": "code",
   "execution_count": 13,
   "metadata": {},
   "outputs": [],
   "source": [
    "## Calculating MTTF (general equation) per node, rack and general using failed SSDs in common\n",
    "\n",
    "# Unique values by column\n",
    "id_apps = df_genMTTF_MergeDs_FailuresAppsLocation.app.unique()\n",
    "#id_nodes = df_failuresLocationDocumentsJsonMTTF.node_id.unique()\n",
    "#id_racks = nodes = df_failuresLocationDocumentsJsonMTTF.rack_id.unique()\n",
    "#id_ssds = nodes = df_failuresLocationDocumentsJsonMTTF.disk_id.unique()\n",
    "\n",
    "#Calculating the MTTFs\n",
    "#df_general = df_failuresLocationDocumentsJsonMTTF['failure_time'].mean()\n",
    "df_appNode = df_genMTTF_MergeDs_FailuresAppsLocation.groupby(['app', 'node_id'])['failure_time'].mean()\n",
    "df_appNode = pd.DataFrame(df_appNode)\n",
    "df_appNode.rename(columns = {'failure_time':'mttf_appNode'}, inplace=True)\n",
    "df_appRack = df_genMTTF_MergeDs_FailuresAppsLocation.groupby(['app', 'rack_id'])['failure_time'].mean()\n",
    "df_appRack = pd.DataFrame(df_appRack)\n",
    "df_appRack.rename(columns = {'failure_time':'mttf_appRack'}, inplace=True)\n",
    "df_app = df_genMTTF_MergeDs_FailuresAppsLocation.groupby(['app'])['failure_time'].mean()\n",
    "df_app = pd.DataFrame(df_app)\n",
    "df_app.rename(columns = {'failure_time':'mttf_app'}, inplace=True)\n",
    "#df_all = df_failuresLocationDocumentsJsonMTTF.groupby(['app', 'rack_id', 'node_id'])['failure_time'].mean()\n",
    "\n",
    "# Merging the results with the original dataframe\n",
    "df_result = pd.merge(df_genMTTF_MergeDs_FailuresAppsLocation, df_appNode, how='left', on=['app', 'node_id'])\n",
    "df_result = pd.merge(df_result, df_appRack, how='left', on=['app', 'rack_id'])\n",
    "df_result = pd.merge(df_result, df_app, how='left', on=['app'])\n",
    "\n",
    "# Selecting the columns of interest\n",
    "df_resultFiltered = df_result.loc[:,['app','node_id', 'rack_id','mttf_appNode','mttf_appRack','mttf_app']]\n",
    "#df_resultFiltered.to_csv('failuresLocationApp.csv')"
   ]
  },
  {
   "cell_type": "code",
   "execution_count": 55,
   "metadata": {},
   "outputs": [
    {
     "data": {
      "text/html": [
       "<div>\n",
       "<style scoped>\n",
       "    .dataframe tbody tr th:only-of-type {\n",
       "        vertical-align: middle;\n",
       "    }\n",
       "\n",
       "    .dataframe tbody tr th {\n",
       "        vertical-align: top;\n",
       "    }\n",
       "\n",
       "    .dataframe thead th {\n",
       "        text-align: right;\n",
       "    }\n",
       "</style>\n",
       "<table border=\"1\" class=\"dataframe\">\n",
       "  <thead>\n",
       "    <tr style=\"text-align: right;\">\n",
       "      <th></th>\n",
       "      <th>_id</th>\n",
       "      <th>disk_id</th>\n",
       "      <th>failure_time</th>\n",
       "      <th>model_x</th>\n",
       "      <th>model_y</th>\n",
       "      <th>app</th>\n",
       "      <th>node_id</th>\n",
       "      <th>rack_id</th>\n",
       "      <th>machine_room_id</th>\n",
       "      <th>mttf_appNode</th>\n",
       "      <th>mttf_appRack</th>\n",
       "      <th>mttf_app</th>\n",
       "    </tr>\n",
       "  </thead>\n",
       "  <tbody>\n",
       "    <tr>\n",
       "      <th>0</th>\n",
       "      <td>{'$oid': '6266c2e8718b63c8dff976fb'}</td>\n",
       "      <td>33722.0</td>\n",
       "      <td>43.258889</td>\n",
       "      <td>MA2</td>\n",
       "      <td>A2</td>\n",
       "      <td>RM</td>\n",
       "      <td>66688.0</td>\n",
       "      <td>11488.0</td>\n",
       "      <td>455.0</td>\n",
       "      <td>43.258889</td>\n",
       "      <td>2731.489028</td>\n",
       "      <td>9314.031077</td>\n",
       "    </tr>\n",
       "    <tr>\n",
       "      <th>1</th>\n",
       "      <td>{'$oid': '6266c2e8718b63c8dff976fc'}</td>\n",
       "      <td>58337.0</td>\n",
       "      <td>46.754444</td>\n",
       "      <td>MA2</td>\n",
       "      <td>A2</td>\n",
       "      <td>RM</td>\n",
       "      <td>114833.0</td>\n",
       "      <td>9859.0</td>\n",
       "      <td>455.0</td>\n",
       "      <td>46.754444</td>\n",
       "      <td>46.754444</td>\n",
       "      <td>9314.031077</td>\n",
       "    </tr>\n",
       "    <tr>\n",
       "      <th>2</th>\n",
       "      <td>{'$oid': '6266c2e8718b63c8dff976fd'}</td>\n",
       "      <td>26378.0</td>\n",
       "      <td>51.395556</td>\n",
       "      <td>MA1</td>\n",
       "      <td>A3</td>\n",
       "      <td>none</td>\n",
       "      <td>145735.0</td>\n",
       "      <td>6860.0</td>\n",
       "      <td>127.0</td>\n",
       "      <td>4203.318264</td>\n",
       "      <td>4534.032191</td>\n",
       "      <td>9568.609801</td>\n",
       "    </tr>\n",
       "    <tr>\n",
       "      <th>3</th>\n",
       "      <td>{'$oid': '6266c2e8718b63c8dff976fe'}</td>\n",
       "      <td>39876.0</td>\n",
       "      <td>51.490833</td>\n",
       "      <td>MA1</td>\n",
       "      <td>A3</td>\n",
       "      <td>RM</td>\n",
       "      <td>217964.0</td>\n",
       "      <td>17596.0</td>\n",
       "      <td>92.0</td>\n",
       "      <td>51.490833</td>\n",
       "      <td>2603.324954</td>\n",
       "      <td>9314.031077</td>\n",
       "    </tr>\n",
       "    <tr>\n",
       "      <th>4</th>\n",
       "      <td>{'$oid': '6266c2e8718b63c8dff976ff'}</td>\n",
       "      <td>199348.0</td>\n",
       "      <td>53.050833</td>\n",
       "      <td>MC1</td>\n",
       "      <td>C1</td>\n",
       "      <td>NAS</td>\n",
       "      <td>237451.0</td>\n",
       "      <td>22765.0</td>\n",
       "      <td>137.0</td>\n",
       "      <td>53.050833</td>\n",
       "      <td>7399.522222</td>\n",
       "      <td>11613.122213</td>\n",
       "    </tr>\n",
       "  </tbody>\n",
       "</table>\n",
       "</div>"
      ],
      "text/plain": [
       "                                    _id   disk_id  failure_time model_x  \\\n",
       "0  {'$oid': '6266c2e8718b63c8dff976fb'}   33722.0     43.258889     MA2   \n",
       "1  {'$oid': '6266c2e8718b63c8dff976fc'}   58337.0     46.754444     MA2   \n",
       "2  {'$oid': '6266c2e8718b63c8dff976fd'}   26378.0     51.395556     MA1   \n",
       "3  {'$oid': '6266c2e8718b63c8dff976fe'}   39876.0     51.490833     MA1   \n",
       "4  {'$oid': '6266c2e8718b63c8dff976ff'}  199348.0     53.050833     MC1   \n",
       "\n",
       "  model_y   app   node_id  rack_id  machine_room_id  mttf_appNode  \\\n",
       "0      A2    RM   66688.0  11488.0            455.0     43.258889   \n",
       "1      A2    RM  114833.0   9859.0            455.0     46.754444   \n",
       "2      A3  none  145735.0   6860.0            127.0   4203.318264   \n",
       "3      A3    RM  217964.0  17596.0             92.0     51.490833   \n",
       "4      C1   NAS  237451.0  22765.0            137.0     53.050833   \n",
       "\n",
       "   mttf_appRack      mttf_app  \n",
       "0   2731.489028   9314.031077  \n",
       "1     46.754444   9314.031077  \n",
       "2   4534.032191   9568.609801  \n",
       "3   2603.324954   9314.031077  \n",
       "4   7399.522222  11613.122213  "
      ]
     },
     "execution_count": 55,
     "metadata": {},
     "output_type": "execute_result"
    }
   ],
   "source": [
    "df_result.head()"
   ]
  },
  {
   "cell_type": "code",
   "execution_count": 14,
   "metadata": {},
   "outputs": [
    {
     "data": {
      "text/html": [
       "<div>\n",
       "<style scoped>\n",
       "    .dataframe tbody tr th:only-of-type {\n",
       "        vertical-align: middle;\n",
       "    }\n",
       "\n",
       "    .dataframe tbody tr th {\n",
       "        vertical-align: top;\n",
       "    }\n",
       "\n",
       "    .dataframe thead th {\n",
       "        text-align: right;\n",
       "    }\n",
       "</style>\n",
       "<table border=\"1\" class=\"dataframe\">\n",
       "  <thead>\n",
       "    <tr style=\"text-align: right;\">\n",
       "      <th></th>\n",
       "      <th>app</th>\n",
       "      <th>N_AllSSDsApp</th>\n",
       "      <th>N_failed_SDDs</th>\n",
       "      <th>AFR_SDDs</th>\n",
       "      <th>mttf_SDDs</th>\n",
       "      <th>AFR_SDDs_total</th>\n",
       "      <th>mttf_SDDs_total</th>\n",
       "      <th>N_failed_CommonSDDs</th>\n",
       "      <th>AFR_CommonSDDs</th>\n",
       "      <th>mttf_CommonSDDs</th>\n",
       "      <th>AFR_CommonSDDs_total</th>\n",
       "      <th>mttf_CommonSDDs_total</th>\n",
       "    </tr>\n",
       "  </thead>\n",
       "  <tbody>\n",
       "    <tr>\n",
       "      <th>0</th>\n",
       "      <td>WPS</td>\n",
       "      <td>44676.0</td>\n",
       "      <td>529.0</td>\n",
       "      <td>0.005920</td>\n",
       "      <td>1.479629e+06</td>\n",
       "      <td>0.000274</td>\n",
       "      <td>3.197632e+07</td>\n",
       "      <td>496.0</td>\n",
       "      <td>0.005551</td>\n",
       "      <td>1.578072e+06</td>\n",
       "      <td>0.000257</td>\n",
       "      <td>3.410378e+07</td>\n",
       "    </tr>\n",
       "    <tr>\n",
       "      <th>1</th>\n",
       "      <td>WSM</td>\n",
       "      <td>380170.0</td>\n",
       "      <td>8916.0</td>\n",
       "      <td>0.011726</td>\n",
       "      <td>7.470366e+05</td>\n",
       "      <td>0.004617</td>\n",
       "      <td>1.897204e+06</td>\n",
       "      <td>8161.0</td>\n",
       "      <td>0.010733</td>\n",
       "      <td>8.161473e+05</td>\n",
       "      <td>0.004226</td>\n",
       "      <td>2.072721e+06</td>\n",
       "    </tr>\n",
       "    <tr>\n",
       "      <th>2</th>\n",
       "      <td>RM</td>\n",
       "      <td>183981.0</td>\n",
       "      <td>3016.0</td>\n",
       "      <td>0.008196</td>\n",
       "      <td>1.068749e+06</td>\n",
       "      <td>0.001562</td>\n",
       "      <td>5.608578e+06</td>\n",
       "      <td>2602.0</td>\n",
       "      <td>0.007071</td>\n",
       "      <td>1.238796e+06</td>\n",
       "      <td>0.001347</td>\n",
       "      <td>6.500950e+06</td>\n",
       "    </tr>\n",
       "    <tr>\n",
       "      <th>3</th>\n",
       "      <td>none</td>\n",
       "      <td>248757.0</td>\n",
       "      <td>3552.0</td>\n",
       "      <td>0.007139</td>\n",
       "      <td>1.226977e+06</td>\n",
       "      <td>0.001839</td>\n",
       "      <td>4.762239e+06</td>\n",
       "      <td>2966.0</td>\n",
       "      <td>0.005962</td>\n",
       "      <td>1.469394e+06</td>\n",
       "      <td>0.001536</td>\n",
       "      <td>5.703126e+06</td>\n",
       "    </tr>\n",
       "    <tr>\n",
       "      <th>4</th>\n",
       "      <td>WS</td>\n",
       "      <td>17740.0</td>\n",
       "      <td>232.0</td>\n",
       "      <td>0.006539</td>\n",
       "      <td>1.339676e+06</td>\n",
       "      <td>0.000120</td>\n",
       "      <td>7.291152e+07</td>\n",
       "      <td>61.0</td>\n",
       "      <td>0.001719</td>\n",
       "      <td>5.095161e+06</td>\n",
       "      <td>0.000032</td>\n",
       "      <td>2.773028e+08</td>\n",
       "    </tr>\n",
       "    <tr>\n",
       "      <th>5</th>\n",
       "      <td>DB</td>\n",
       "      <td>26781.0</td>\n",
       "      <td>203.0</td>\n",
       "      <td>0.003790</td>\n",
       "      <td>2.311345e+06</td>\n",
       "      <td>0.000105</td>\n",
       "      <td>8.332745e+07</td>\n",
       "      <td>113.0</td>\n",
       "      <td>0.002110</td>\n",
       "      <td>4.152240e+06</td>\n",
       "      <td>0.000059</td>\n",
       "      <td>1.496944e+08</td>\n",
       "    </tr>\n",
       "    <tr>\n",
       "      <th>6</th>\n",
       "      <td>DAE</td>\n",
       "      <td>16000.0</td>\n",
       "      <td>1214.0</td>\n",
       "      <td>0.037937</td>\n",
       "      <td>2.309061e+05</td>\n",
       "      <td>0.000629</td>\n",
       "      <td>1.393367e+07</td>\n",
       "      <td>1214.0</td>\n",
       "      <td>0.037937</td>\n",
       "      <td>2.309061e+05</td>\n",
       "      <td>0.000629</td>\n",
       "      <td>1.393367e+07</td>\n",
       "    </tr>\n",
       "    <tr>\n",
       "      <th>7</th>\n",
       "      <td>SS</td>\n",
       "      <td>32936.0</td>\n",
       "      <td>184.0</td>\n",
       "      <td>0.002793</td>\n",
       "      <td>3.136080e+06</td>\n",
       "      <td>0.000095</td>\n",
       "      <td>9.193192e+07</td>\n",
       "      <td>151.0</td>\n",
       "      <td>0.002292</td>\n",
       "      <td>3.821448e+06</td>\n",
       "      <td>0.000078</td>\n",
       "      <td>1.120230e+08</td>\n",
       "    </tr>\n",
       "    <tr>\n",
       "      <th>8</th>\n",
       "      <td>NAS</td>\n",
       "      <td>14454.0</td>\n",
       "      <td>541.0</td>\n",
       "      <td>0.018715</td>\n",
       "      <td>4.680852e+05</td>\n",
       "      <td>0.000280</td>\n",
       "      <td>3.126705e+07</td>\n",
       "      <td>541.0</td>\n",
       "      <td>0.018715</td>\n",
       "      <td>4.680852e+05</td>\n",
       "      <td>0.000280</td>\n",
       "      <td>3.126705e+07</td>\n",
       "    </tr>\n",
       "  </tbody>\n",
       "</table>\n",
       "</div>"
      ],
      "text/plain": [
       "    app  N_AllSSDsApp  N_failed_SDDs  AFR_SDDs     mttf_SDDs  AFR_SDDs_total  \\\n",
       "0   WPS       44676.0          529.0  0.005920  1.479629e+06        0.000274   \n",
       "1   WSM      380170.0         8916.0  0.011726  7.470366e+05        0.004617   \n",
       "2    RM      183981.0         3016.0  0.008196  1.068749e+06        0.001562   \n",
       "3  none      248757.0         3552.0  0.007139  1.226977e+06        0.001839   \n",
       "4    WS       17740.0          232.0  0.006539  1.339676e+06        0.000120   \n",
       "5    DB       26781.0          203.0  0.003790  2.311345e+06        0.000105   \n",
       "6   DAE       16000.0         1214.0  0.037937  2.309061e+05        0.000629   \n",
       "7    SS       32936.0          184.0  0.002793  3.136080e+06        0.000095   \n",
       "8   NAS       14454.0          541.0  0.018715  4.680852e+05        0.000280   \n",
       "\n",
       "   mttf_SDDs_total  N_failed_CommonSDDs  AFR_CommonSDDs  mttf_CommonSDDs  \\\n",
       "0     3.197632e+07                496.0        0.005551     1.578072e+06   \n",
       "1     1.897204e+06               8161.0        0.010733     8.161473e+05   \n",
       "2     5.608578e+06               2602.0        0.007071     1.238796e+06   \n",
       "3     4.762239e+06               2966.0        0.005962     1.469394e+06   \n",
       "4     7.291152e+07                 61.0        0.001719     5.095161e+06   \n",
       "5     8.332745e+07                113.0        0.002110     4.152240e+06   \n",
       "6     1.393367e+07               1214.0        0.037937     2.309061e+05   \n",
       "7     9.193192e+07                151.0        0.002292     3.821448e+06   \n",
       "8     3.126705e+07                541.0        0.018715     4.680852e+05   \n",
       "\n",
       "   AFR_CommonSDDs_total  mttf_CommonSDDs_total  \n",
       "0              0.000257           3.410378e+07  \n",
       "1              0.004226           2.072721e+06  \n",
       "2              0.001347           6.500950e+06  \n",
       "3              0.001536           5.703126e+06  \n",
       "4              0.000032           2.773028e+08  \n",
       "5              0.000059           1.496944e+08  \n",
       "6              0.000629           1.393367e+07  \n",
       "7              0.000078           1.120230e+08  \n",
       "8              0.000280           3.126705e+07  "
      ]
     },
     "execution_count": 14,
     "metadata": {},
     "output_type": "execute_result"
    }
   ],
   "source": [
    "### To investigate the SSDs by application\n",
    "\n",
    "exp_years = 2\n",
    "exp_months = 12*exp_years\n",
    "hours_per_year = 365*24\n",
    "id_apps = df_AlibabaSnapShot_AllAppsSSDsLocation.app.unique()\n",
    "\n",
    "\n",
    "#Creating a dataframe to generate some statistics taking into account the application which is running\n",
    "df_idApps = pd.DataFrame(id_apps, columns=[\"app\"])\n",
    "#Adding empty colums\n",
    "df_idAppsSSDs = pd.DataFrame(df_idApps, columns=[\"app\", \"N_AllSSDsApp\", \"N_failed_SDDs\",  \"AFR_SDDs\", \"mttf_SDDs\", \"AFR_SDDs_total\", \"mttf_SDDs_total\", \"N_failed_CommonSDDs\",  \"AFR_CommonSDDs\", \"mttf_CommonSDDs\",\"AFR_CommonSDDs_total\", \"mttf_CommonSDDs_total\"])\n",
    "\n",
    "\n",
    "for i in id_apps:\n",
    "    #Looping the AlibabaSnapshot_AllAppsSSDsLocation DB in order to count the total of ssds by application    \n",
    "    df_idAppsSSDs.loc[(df_idAppsSSDs['app']) == i, 'N_AllSSDsApp'] = df_AlibabaSnapShot_AllAppsSSDsLocation.loc[(df_AlibabaSnapShot_AllAppsSSDsLocation['app']) == i]['disk_id'].count()\n",
    "    \n",
    "    #Looping the FailuresAppsLocation (merged dss) in order to count the number of failed ssds by application    \n",
    "    df_idAppsSSDs.loc[(df_idAppsSSDs['app']) == i, 'N_failed_CommonSDDs'] = df_MergeDs_FailuresAppsLocation.loc[(df_MergeDs_FailuresAppsLocation['app']) == i]['disk_id'].count()\n",
    "    #Looping the AllAppsSSDsFailures DB in order to count the number of failed ssds by application    \n",
    "    df_idAppsSSDs.loc[(df_idAppsSSDs['app']) == i, 'N_failed_SDDs'] = df_AlibabaSnapShot_FailuresAppsLocation.loc[(df_AlibabaSnapShot_FailuresAppsLocation['app']) == i]['disk_id'].count()\n",
    "    \n",
    "    # Calculating specific (failedSSDsperApp/TotalSSDsperAPP) app AFR and MTTF using failed ssds from the Alibaba Snapshot database (AllAppsSSDsFailures)\n",
    "    df_idAppsSSDs.loc[(df_idAppsSSDs['app']) == i, 'AFR_SDDs'] = ((df_idAppsSSDs.loc[(df_idAppsSSDs['app']) == i, 'N_failed_SDDs'])*(12/exp_months))/(df_idAppsSSDs.loc[(df_idAppsSSDs['app']) == i, 'N_AllSSDsApp'])\n",
    "    df_idAppsSSDs.loc[(df_idAppsSSDs['app']) == i, 'mttf_SDDs'] = (hours_per_year)/(df_idAppsSSDs.loc[(df_idAppsSSDs['app']) == i, 'AFR_SDDs'])\n",
    "    # Calculating specific (failedSSDsCommonperApp/TotalSSDsCommonperApp) app AFR and MTTF using failed ssds in common to the Snapshot and Overtime databases (FailuresAppsLocation)\n",
    "    df_idAppsSSDs.loc[(df_idAppsSSDs['app']) == i, 'AFR_CommonSDDs'] = ((df_idAppsSSDs.loc[(df_idAppsSSDs['app']) == i, 'N_failed_CommonSDDs'])*(12/exp_months))/(df_idAppsSSDs.loc[(df_idAppsSSDs['app']) == i, 'N_AllSSDsApp'])\n",
    "    df_idAppsSSDs.loc[(df_idAppsSSDs['app']) == i, 'mttf_CommonSDDs'] = (hours_per_year)/(df_idAppsSSDs.loc[(df_idAppsSSDs['app']) == i, 'AFR_CommonSDDs'])\n",
    "    \n",
    "for i in id_apps:\n",
    "    # Calculating total (failedSSDsperApp/TotalSSDsExperiment) AFR and MTTF using failed ssds from the Alibaba Snapshot database (AllAppsSSDsFailures)\n",
    "    df_idAppsSSDs.loc[(df_idAppsSSDs['app']) == i, 'AFR_SDDs_total'] = ((df_idAppsSSDs.loc[(df_idAppsSSDs['app']) == i, 'N_failed_SDDs'])*(12/exp_months))/(df_idAppsSSDs.N_AllSSDsApp.sum())\n",
    "    df_idAppsSSDs.loc[(df_idAppsSSDs['app']) == i, 'mttf_SDDs_total'] = (hours_per_year)/(df_idAppsSSDs.loc[(df_idAppsSSDs['app']) == i, 'AFR_SDDs_total'])\n",
    "    # Calculating total (failedSSDsCommonperApp/TotalSSDsExperiment) AFR and MTTF using failed ssds in common to the Snapshot and Overtime databases (FailuresAppsLocation)\n",
    "    df_idAppsSSDs.loc[(df_idAppsSSDs['app']) == i, 'AFR_CommonSDDs_total'] = ((df_idAppsSSDs.loc[(df_idAppsSSDs['app']) == i, 'N_failed_CommonSDDs'])*(12/exp_months))/(df_idAppsSSDs.N_AllSSDsApp.sum())\n",
    "    df_idAppsSSDs.loc[(df_idAppsSSDs['app']) == i, 'mttf_CommonSDDs_total'] = (hours_per_year)/(df_idAppsSSDs.loc[(df_idAppsSSDs['app']) == i, 'AFR_CommonSDDs_total'])\n",
    "\n",
    "#Merging mttf per app to include the MTTF (this calculated using the general MTTF equation - not storage's specific) column into the failed ssds by application dataframe\n",
    "df_idAppsSSDsMTTF = pd.merge(df_idAppsSSDs, df_app, how='left', on=['app'])\n",
    "#df_idAppsSSDsMTTF.head(20)\n",
    "\n",
    "df_idAppsSSDs.head(20)\n"
   ]
  },
  {
   "cell_type": "code",
   "execution_count": 15,
   "metadata": {},
   "outputs": [
    {
     "data": {
      "text/html": [
       "<div>\n",
       "<style scoped>\n",
       "    .dataframe tbody tr th:only-of-type {\n",
       "        vertical-align: middle;\n",
       "    }\n",
       "\n",
       "    .dataframe tbody tr th {\n",
       "        vertical-align: top;\n",
       "    }\n",
       "\n",
       "    .dataframe thead th {\n",
       "        text-align: right;\n",
       "    }\n",
       "</style>\n",
       "<table border=\"1\" class=\"dataframe\">\n",
       "  <thead>\n",
       "    <tr style=\"text-align: right;\">\n",
       "      <th></th>\n",
       "      <th>FailedSSDsSet</th>\n",
       "      <th>AFR_General</th>\n",
       "      <th>MTTF_General</th>\n",
       "    </tr>\n",
       "  </thead>\n",
       "  <tbody>\n",
       "    <tr>\n",
       "      <th>0</th>\n",
       "      <td>FailedSSDs</td>\n",
       "      <td>0.009522</td>\n",
       "      <td>9.199691e+05</td>\n",
       "    </tr>\n",
       "    <tr>\n",
       "      <th>1</th>\n",
       "      <td>FailedCommonSSDs</td>\n",
       "      <td>0.008444</td>\n",
       "      <td>1.037441e+06</td>\n",
       "    </tr>\n",
       "  </tbody>\n",
       "</table>\n",
       "</div>"
      ],
      "text/plain": [
       "      FailedSSDsSet  AFR_General  MTTF_General\n",
       "0        FailedSSDs     0.009522  9.199691e+05\n",
       "1  FailedCommonSSDs     0.008444  1.037441e+06"
      ]
     },
     "execution_count": 15,
     "metadata": {},
     "output_type": "execute_result"
    }
   ],
   "source": [
    "### To investigate the SDDs without app distinguishing\n",
    "\n",
    "#Creating a data frame to calculate the AFR and MTTF without app distinguishing.\n",
    "data = {'FailedSSDsSet':['FailedSSDs', 'FailedCommonSSDs']}\n",
    "df_general_AFRMTTF = pd.DataFrame(data)\n",
    "df_general_AFRMTTF = pd.DataFrame(df_general_AFRMTTF, columns=['FailedSSDsSet', 'AFR_General', 'MTTF_General'])\n",
    "\n",
    "# Calculating general (failedSSDs/TotalSSDsExperiment) AFR and MTTF using failed ssds from the Alibaba Snapshot database (AllAppsSSDsFailures)\n",
    "df_general_AFRMTTF.loc[(df_general_AFRMTTF['FailedSSDsSet']) == 'FailedSSDs', 'AFR_General'] = ((df_idAppsSSDs.N_failed_SDDs.sum())*(12/exp_months))/(df_idAppsSSDs.N_AllSSDsApp.sum())\n",
    "df_general_AFRMTTF.loc[(df_general_AFRMTTF['FailedSSDsSet']) == 'FailedSSDs', 'MTTF_General'] = (hours_per_year)/(df_general_AFRMTTF.loc[(df_general_AFRMTTF['FailedSSDsSet']) == 'FailedSSDs', 'AFR_General'])\n",
    "# Calculating general AFR and MTTF using failed ssds in common to the Snapshot and Overtime databases (FailuresAppsLocation)\n",
    "df_general_AFRMTTF.loc[(df_general_AFRMTTF['FailedSSDsSet']) == 'FailedCommonSSDs', 'AFR_General'] = ((df_idAppsSSDs.N_failed_CommonSDDs.sum())*(12/exp_months))/(df_idAppsSSDs.N_AllSSDsApp.sum())\n",
    "df_general_AFRMTTF.loc[(df_general_AFRMTTF['FailedSSDsSet']) == 'FailedCommonSSDs', 'MTTF_General'] = (hours_per_year)/(df_general_AFRMTTF.loc[(df_general_AFRMTTF['FailedSSDsSet']) == 'FailedCommonSSDs', 'AFR_General'])\n",
    "df_general_AFRMTTF.head()\n",
    "#df_idAppsSSDs.N_AllSSDsApp.sum()"
   ]
  },
  {
   "cell_type": "code",
   "execution_count": 119,
   "metadata": {},
   "outputs": [],
   "source": [
    "### To investigate the AFR and MTTF per SSD models for each application\n",
    "\n",
    "exp_years = 2\n",
    "exp_months = 12*exp_years\n",
    "hours_per_year = 365*24\n",
    "id_apps = df_AlibabaSnapShot_AllAppsSSDsLocation.app.unique()\n",
    "id_models = df_AlibabaSnapShot_AllAppsSSDsLocation.model_y.unique()\n",
    "\n",
    "\n",
    "df_MergeAlibabaAllandFailures =  pd.merge(df_AlibabaSnapShot_AllAppsSSDsLocation, df_AlibabaSnapShot_FailuresAppsLocation, how = 'inner', on = ['app', 'disk_id', 'node_id'])\n",
    "\n",
    "df_idModelsSSDs = pd.DataFrame(columns=[\"app\", \"models\", \"N_AllSSDsApp\", \"N_failed_SDDs\",  \"AFR_SDDs\", \"mttf_SDDs\"])\n",
    "\n",
    "for j in id_models:\n",
    "    for i in id_apps:\n",
    "    \n",
    "        #Looping the AlibabaSnapshot_AllAppsSSDsLocation DB in order to count the total of ssds/model by application    \n",
    "        numberTotalSSDs = df_AlibabaSnapShot_AllAppsSSDsLocation.loc[(df_AlibabaSnapShot_AllAppsSSDsLocation.app.isin([i]) & df_AlibabaSnapShot_AllAppsSSDsLocation.model_y.isin([j])), \"disk_id\"].count()\n",
    "        \n",
    "        numberFailedSSDs = df_MergeAlibabaAllandFailures.loc[(df_MergeAlibabaAllandFailures.app.isin([i]) & df_MergeAlibabaAllandFailures.model_y.isin([j])), \"disk_id\"].count()\n",
    "\n",
    "        if numberFailedSSDs != 0:\n",
    "            AFR_SSDs = ((numberFailedSSDs)*(12/exp_months))/(numberTotalSSDs)\n",
    "            MTTF_SSDs = (hours_per_year)/(AFR_SSDs)\n",
    "        else: \n",
    "            AFR_SSDs = 0\n",
    "            MTTF_SSDs = 0\n",
    "        df_temp = pd.DataFrame(columns=[\"app\", \"models\", \"N_AllSSDsApp\", \"N_failed_SDDs\",  \"AFR_SDDs\", \"mttf_SDDs\"])\n",
    "        df_temp.loc[-1] = {'app' : i , 'models' : j, 'N_AllSSDsApp' : numberTotalSSDs, 'N_failed_SDDs': numberFailedSSDs, 'AFR_SDDs': AFR_SSDs, 'mttf_SDDs': MTTF_SSDs}\n",
    "        df_idModelsSSDs = pd.concat([df_idModelsSSDs, df_temp], ignore_index=True)\n",
    "\n",
    "\n"
   ]
  },
  {
   "cell_type": "code",
   "execution_count": null,
   "metadata": {},
   "outputs": [],
   "source": [
    "### To investigate the AFR and MTTF per SSD flash technology for each application\n",
    "\n",
    "df_temp = df_idModelsSSDs.copy()\n",
    "df_temp[\"tech\"] = \" \"\n",
    "\n",
    "df_temp.loc[(df_temp.models.isin(['A1']) | df_temp.models.isin(['A2']) | df_temp.models.isin(['A3']) | df_temp.models.isin(['A4']) | df_temp.models.isin(['A5']) | df_temp.models.isin(['A6']) | df_temp.models.isin(['B1']) | df_temp.models.isin(['B2']) | df_temp.models.isin(['B3'])), 'tech'] = 'MLC'\n",
    "df_temp.loc[(df_temp.models.isin(['C1']) | df_temp.models.isin(['C2'])), 'tech'] = '3D-TLC'\n",
    "\n",
    "df_temp1 = df_temp.groupby(['app', 'tech'], as_index=False)['N_failed_SDDs'].sum()\n",
    "df_temp2 = df_temp.groupby(['app', 'tech'], as_index=False)['N_AllSSDsApp'].sum()\n",
    "df_idTechSSDs = pd.merge(df_temp1, df_temp2, how='inner', on=['app', 'tech'])\n",
    "\n",
    "df_idTechSSDs[\"AFR_SSDs\"] = \" \"\n",
    "df_idTechSSDs[\"mttf_SDDs\"] = \" \"\n",
    "\n",
    "for i in range(0, len(df_idTechSSDs)): \n",
    "    \n",
    "\n",
    "    numberTotalSSDs = df_idTechSSDs.iloc[i].N_AllSSDsApp\n",
    "    numberFailedSSDs = df_idTechSSDs.iloc[i].N_failed_SDDs\n",
    "       \n",
    "    if numberFailedSSDs != 0:\n",
    "        AFR_SSDs = ((numberFailedSSDs)*(12/exp_months))/(numberTotalSSDs)\n",
    "        MTTF_SSDs = (hours_per_year)/(AFR_SSDs)\n",
    "    else: \n",
    "        AFR_SSDs = 0\n",
    "        MTTF_SSDs = 0\n",
    "\n",
    "    df_idTechSSDs.loc[i, 'AFR_SSDs'] = AFR_SSDs\n",
    "    df_idTechSSDs.loc[i, 'mttf_SDDs'] = MTTF_SSDs\n",
    "\n",
    "df_idTechSSDs.head(20)"
   ]
  },
  {
   "cell_type": "code",
   "execution_count": null,
   "metadata": {},
   "outputs": [],
   "source": [
    "### To investigate the AFR and MTTF per SSD capacity for each application\n",
    "\n",
    "df_temp = df_idModelsSSDs.copy()\n",
    "df_temp[\"capacity\"] = \" \"\n",
    "\n",
    "df_temp.loc[(df_temp.models.isin(['A1']) | df_temp.models.isin(['A3']) | df_temp.models.isin(['A5']) | df_temp.models.isin(['B1'])), 'capacity'] = '480GB'\n",
    "df_temp.loc[(df_temp.models.isin(['B2']) | df_temp.models.isin(['B3']) | df_temp.models.isin(['C1'])), 'capacity'] = '1920GB'\n",
    "df_temp.loc[(df_temp.models.isin(['A2']) | df_temp.models.isin(['A6'])), 'capacity'] = '800GB'\n",
    "df_temp.loc[(df_temp.models.isin(['A4'])), 'capacity'] = '240GB'\n",
    "df_temp.loc[(df_temp.models.isin(['C2'])), 'capacity'] = '960GB'\n",
    "\n",
    "df_temp1 = df_temp.groupby(['app', 'capacity'], as_index=False)['N_failed_SDDs'].sum()\n",
    "df_temp2 = df_temp.groupby(['app', 'capacity'], as_index=False)['N_AllSSDsApp'].sum()\n",
    "df_idCapacitySSDs = pd.merge(df_temp1, df_temp2, how='inner', on=['app', 'capacity'])\n",
    "\n",
    "df_idCapacitySSDs[\"AFR_SSDs\"] = \" \"\n",
    "df_idCapacitySSDs[\"mttf_SDDs\"] = \" \"\n",
    "\n",
    "for i in range(0, len(df_idCapacitySSDs)): \n",
    "    \n",
    "\n",
    "    numberTotalSSDs = df_idCapacitySSDs.iloc[i].N_AllSSDsApp\n",
    "    numberFailedSSDs = df_idCapacitySSDs.iloc[i].N_failed_SDDs\n",
    "       \n",
    "    if numberFailedSSDs != 0:\n",
    "        AFR_SSDs = ((numberFailedSSDs)*(12/exp_months))/(numberTotalSSDs)\n",
    "        MTTF_SSDs = (hours_per_year)/(AFR_SSDs)\n",
    "    else: \n",
    "        AFR_SSDs = 0\n",
    "        MTTF_SSDs = 0\n",
    "\n",
    "    df_idCapacitySSDs.loc[i, 'AFR_SSDs'] = AFR_SSDs\n",
    "    df_idCapacitySSDs.loc[i, 'mttf_SDDs'] = MTTF_SSDs\n",
    "\n",
    "df_idCapacitySSDs.head(20)"
   ]
  },
  {
   "cell_type": "code",
   "execution_count": null,
   "metadata": {},
   "outputs": [],
   "source": [
    "### To investigate the AFR and MTTF per SSD lithography for each application\n",
    "\n",
    "df_temp = df_idModelsSSDs.copy()\n",
    "df_temp[\"lithography\"] = \" \"\n",
    "\n",
    "df_temp.loc[(df_temp.models.isin(['A1']) | df_temp.models.isin(['A2']) | df_temp.models.isin(['A3']) | df_temp.models.isin(['A6'])), 'lithography'] = '20nm'\n",
    "df_temp.loc[(df_temp.models.isin(['A4']) | df_temp.models.isin(['A5'])), 'lithography'] = '16nm'\n",
    "df_temp.loc[(df_temp.models.isin(['C1']) | df_temp.models.isin(['C2'])), 'lithography'] = 'V1'\n",
    "df_temp.loc[(df_temp.models.isin(['B1'])), 'lithography'] = '21nm'\n",
    "df_temp.loc[(df_temp.models.isin(['B2'])), 'lithography'] = '19nm'\n",
    "df_temp.loc[(df_temp.models.isin(['B3'])), 'lithography'] = '24nm'\n",
    "\n",
    "df_temp1 = df_temp.groupby(['app', 'lithography'], as_index=False)['N_failed_SDDs'].sum()\n",
    "df_temp2 = df_temp.groupby(['app', 'lithography'], as_index=False)['N_AllSSDsApp'].sum()\n",
    "df_idLitSSDs = pd.merge(df_temp1, df_temp2, how='inner', on=['app', 'lithography'])\n",
    "\n",
    "df_idLitSSDs[\"AFR_SSDs\"] = \" \"\n",
    "df_idLitSSDs[\"mttf_SDDs\"] = \" \"\n",
    "\n",
    "for i in range(0, len(df_idLitSSDs)): \n",
    "    \n",
    "\n",
    "    numberTotalSSDs = df_idLitSSDs.iloc[i].N_AllSSDsApp\n",
    "    numberFailedSSDs = df_idLitSSDs.iloc[i].N_failed_SDDs\n",
    "       \n",
    "    if numberFailedSSDs != 0:\n",
    "        AFR_SSDs = ((numberFailedSSDs)*(12/exp_months))/(numberTotalSSDs)\n",
    "        MTTF_SSDs = (hours_per_year)/(AFR_SSDs)\n",
    "    else: \n",
    "        AFR_SSDs = 0\n",
    "        MTTF_SSDs = 0\n",
    "\n",
    "    df_idLitSSDs.loc[i, 'AFR_SSDs'] = AFR_SSDs\n",
    "    df_idLitSSDs.loc[i, 'mttf_SDDs'] = MTTF_SSDs\n",
    "\n",
    "df_idLitSSDs.head(20)"
   ]
  },
  {
   "cell_type": "markdown",
   "metadata": {},
   "source": [
    "### Plotting the AFRs and MTTFs per app - considering # ssds per app "
   ]
  },
  {
   "cell_type": "code",
   "execution_count": 234,
   "metadata": {},
   "outputs": [
    {
     "data": {
      "image/png": "[encoded data removed]",
      "text/plain": [
       "<Figure size 432x288 with 1 Axes>"
      ]
     },
     "metadata": {
      "needs_background": "light"
     },
     "output_type": "display_data"
    }
   ],
   "source": [
    "df_plotAFRMTTFSPF = df_idAppsSSDs.loc[:,['app','AFR_SDDs', 'mttf_SDDs']]\n",
    "\n",
    "#df_plotAFRMTTFSPF = df_plotAFRMTTFSPF.assign(spf_all='spf_ssds')\n",
    "\n",
    "df_plotAFRMTTFSPF[\"AFR_SDDs\"] = df_plotAFRMTTFSPF[\"AFR_SDDs\"]*100\n",
    "\n",
    "graph = sns.barplot(x = \"app\", y = 'AFR_SDDs', palette = 'ch:.25', data = df_plotAFRMTTFSPF)\n",
    "graph.axhline(df_general_AFRMTTF.loc[df_general_AFRMTTF['FailedSSDsSet'] == 'FailedSSDs', 'AFR_General'].values[0]*100)\n",
    "#graph.set_ylabel(\"Gender\",size = 67,color=\"g\",alpha=0.5)\n",
    "graph.set_ylabel(\"AFR (%)\")\n",
    "sns.despine()\n",
    "plt.show()"
   ]
  },
  {
   "cell_type": "code",
   "execution_count": 167,
   "metadata": {},
   "outputs": [
    {
     "data": {
      "image/png": "[encoded data removed]",
      "text/plain": [
       "<Figure size 432x288 with 1 Axes>"
      ]
     },
     "metadata": {
      "needs_background": "light"
     },
     "output_type": "display_data"
    }
   ],
   "source": [
    "graph = sns.barplot(x = \"app\", y = 'mttf_SDDs', palette = 'ch:.25', data = df_plotAFRMTTFSPF)\n",
    "graph.axhline(df_general_AFRMTTF.loc[df_general_AFRMTTF['FailedSSDsSet'] == 'FailedSSDs', 'MTTF_General'].values[0])\n",
    "graph.set_ylabel(\"MTTF (hours)\")\n",
    "sns.despine()\n",
    "plt.show()"
   ]
  },
  {
   "cell_type": "code",
   "execution_count": 236,
   "metadata": {},
   "outputs": [
    {
     "data": {
      "image/png": "[encoded data removed]",
      "text/plain": [
       "<Figure size 811.44x288 with 1 Axes>"
      ]
     },
     "metadata": {
      "needs_background": "light"
     },
     "output_type": "display_data"
    }
   ],
   "source": [
    "df_plotNSDDsFailedTotal1 = df_idAppsSSDs.loc[:,['app','N_AllSSDsApp']]\n",
    "df_plotNSDDsFailedTotal2 = df_idAppsSSDs.loc[:,['app','N_failed_SDDs']]\n",
    "\n",
    "df_plotNSDDsFailedTotal1 = df_plotNSDDsFailedTotal1.assign(group='Total')\n",
    "df_plotNSDDsFailedTotal2 = df_plotNSDDsFailedTotal2.assign(group='Failed')\n",
    "df_plotNSDDsFailedTotal2.rename(columns = {'N_failed_SDDs':'N_AllSSDsApp'}, inplace=True)\n",
    "\n",
    "df_plotNSDDsFailedTotal1 = pd.concat([df_plotNSDDsFailedTotal1,df_plotNSDDsFailedTotal2])\n",
    "#df_plotNSDDsFailedTotal1[\"N_AllSSDsApp\"] = df_plotNSDDsFailedTotal1[\"N_AllSSDsApp\"]\n",
    "\n",
    "graph = sns.barplot(x = \"app\", y = 'N_AllSSDsApp', palette = 'ch:.25', hue = 'group', data = df_plotNSDDsFailedTotal1)\n",
    "for container in graph.containers:\n",
    "    graph.bar_label(container, label_type='edge')\n",
    "graph.set_ylabel(\"#SSDs\")\n",
    "graph.figure.set_figwidth(11.27) # increasing the figure width\n",
    "#graph.fig.set_figheight(11.7)\n",
    "sns.despine()\n",
    "plt.show()\n",
    "\n",
    "#df_plotNSDDsFailedTotal1.head(20)"
   ]
  },
  {
   "cell_type": "code",
   "execution_count": 232,
   "metadata": {},
   "outputs": [
    {
     "data": {
      "image/png": "[encoded data removed]",
      "text/plain": [
       "<Figure size 1070.64x410.4 with 1 Axes>"
      ]
     },
     "metadata": {
      "needs_background": "light"
     },
     "output_type": "display_data"
    }
   ],
   "source": [
    "### To plot the AFR per SSD models for each application\n",
    "\n",
    "df_temp = df_idModelsSSDs.copy()\n",
    "df_temp[\"AFR_SDDs\"] = df_temp[\"AFR_SDDs\"]*100\n",
    "\n",
    "graph = sns.barplot(x = \"app\", y = 'AFR_SDDs', palette = 'Spectral', hue = 'models', data = df_temp, hue_order = ['A1','A2','A3','A4','A5','A6','B1','B2','B3','C1','C2'])\n",
    "#for container in graph.containers:\n",
    "#    graph.bar_label(container, label_type='edge')\n",
    "\n",
    "graph.axhline(df_general_AFRMTTF.loc[df_general_AFRMTTF['FailedSSDsSet'] == 'FailedSSDs', 'AFR_General'].values[0]*100)\n",
    "graph.set_ylabel(\"AFR (%)\")\n",
    "graph.figure.set_figwidth(14.87) # increasing the figure width\n",
    "graph.figure.set_figheight(5.7)\n",
    "[graph.axvline(x+.5,color='silver') for x in graph.get_xticks()]\n",
    "#sns.despine()\n",
    "plt.show()\n",
    "\n"
   ]
  },
  {
   "cell_type": "code",
   "execution_count": 208,
   "metadata": {},
   "outputs": [
    {
     "data": {
      "text/plain": [
       "Text(0, 0.5, 'AFR (%)')"
      ]
     },
     "execution_count": 208,
     "metadata": {},
     "output_type": "execute_result"
    },
    {
     "data": {
      "image/png": "[encoded data removed]",
      "text/plain": [
       "<Figure size 1070.64x554.4 with 1 Axes>"
      ]
     },
     "metadata": {
      "needs_background": "light"
     },
     "output_type": "display_data"
    }
   ],
   "source": [
    "### To plot the AFR per SSD models for each application using stacking approach\n",
    "\n",
    "df_temp = df_idModelsSSDs.copy()\n",
    "df_temp[\"AFR_SDDs\"] = df_temp[\"AFR_SDDs\"]*100\n",
    "\n",
    "ax = sns.histplot(\n",
    "    df_temp,\n",
    "    x='app',\n",
    "    # Use the value variable here to turn histogram counts into weighted\n",
    "    # values.\n",
    "    weights='AFR_SDDs',\n",
    "    hue='models',\n",
    "    multiple='stack',\n",
    "    palette='Spectral',\n",
    "    #palette='icefire',\n",
    "    #palette='husl',\n",
    "    # Add white borders to the bars.\n",
    "    edgecolor='white',\n",
    "    # Shrink the bars a bit so they don't touch.\n",
    "    shrink=0.85,\n",
    "    hue_order = ['A1','A2','A3','A4','A5','A6','B1','B2','B3','C1','C2']\n",
    ")\n",
    "ax.figure.set_figwidth(14.87) # increasing the figure width\n",
    "ax.figure.set_figheight(7.7)\n",
    "#ax.set_title('Tips by Day and Gender')\n",
    "# Remove 'Count' ylabel.\n",
    "ax.set_ylabel(\"AFR (%)\")"
   ]
  },
  {
   "cell_type": "code",
   "execution_count": 237,
   "metadata": {},
   "outputs": [
    {
     "data": {
      "image/png": "[encoded data removed]",
      "text/plain": [
       "<Figure size 1070.64x410.4 with 1 Axes>"
      ]
     },
     "metadata": {
      "needs_background": "light"
     },
     "output_type": "display_data"
    }
   ],
   "source": [
    "### To plot the MTTF per SSD models for each application\n",
    "\n",
    "graph = sns.barplot(x = \"app\", y = 'mttf_SDDs', palette = 'Spectral', hue = 'models', data = df_idModelsSSDs, hue_order = ['A1','A2','A3','A4','A5','A6','B1','B2','B3','C1','C2'])\n",
    "#for container in graph.containers:\n",
    "#    graph.bar_label(container, label_type='edge')\n",
    "\n",
    "graph.axhline(df_general_AFRMTTF.loc[df_general_AFRMTTF['FailedSSDsSet'] == 'FailedSSDs', 'MTTF_General'].values[0])\n",
    "graph.set_ylabel(\"MTTF (hours)\")\n",
    "graph.figure.set_figwidth(14.87) # increasing the figure width\n",
    "graph.figure.set_figheight(5.7)\n",
    "[graph.axvline(x+.5,color='silver') for x in graph.get_xticks()]\n",
    "#sns.despine()\n",
    "plt.show()"
   ]
  },
  {
   "cell_type": "code",
   "execution_count": 239,
   "metadata": {},
   "outputs": [
    {
     "data": {
      "image/png": "[encoded data removed]",
      "text/plain": [
       "<Figure size 1070.64x410.4 with 1 Axes>"
      ]
     },
     "metadata": {
      "needs_background": "light"
     },
     "output_type": "display_data"
    }
   ],
   "source": [
    "### To plot the AFR per SSD flash technology for each application\n",
    "\n",
    "df_temp3Plot = df_idTechSSDs.copy()\n",
    "df_temp3Plot[\"AFR_SSDs\"] = df_temp3Plot[\"AFR_SSDs\"]*100\n",
    "graph = sns.barplot(x = \"app\", y = 'AFR_SSDs', palette = 'Set2', hue = 'tech', data = df_temp3Plot, hue_order = ['MLC','3D-TLC'])\n",
    "\n",
    "for container in graph.containers:\n",
    "    graph.bar_label(container, label_type='edge')\n",
    "\n",
    "\n",
    "graph.set_ylabel(\"AFR (%)\")\n",
    "graph.axhline(df_general_AFRMTTF.loc[df_general_AFRMTTF['FailedSSDsSet'] == 'FailedSSDs', 'AFR_General'].values[0]*100)\n",
    "graph.figure.set_figwidth(14.87) # increasing the figure width\n",
    "graph.figure.set_figheight(5.7)\n",
    "[graph.axvline(x+.5,color='silver') for x in graph.get_xticks()]\n",
    "#sns.despine()\n",
    "plt.show()"
   ]
  },
  {
   "cell_type": "code",
   "execution_count": 231,
   "metadata": {},
   "outputs": [
    {
     "data": {
      "text/plain": [
       "Text(0, 0.5, 'AFR (%)')"
      ]
     },
     "execution_count": 231,
     "metadata": {},
     "output_type": "execute_result"
    },
    {
     "data": {
      "image/png": "[encoded data removed]",
      "text/plain": [
       "<Figure size 1070.64x554.4 with 1 Axes>"
      ]
     },
     "metadata": {
      "needs_background": "light"
     },
     "output_type": "display_data"
    }
   ],
   "source": [
    "### To plot the AFR per SSD flash technology for each application using stacking approach\n",
    "\n",
    "df_temp = df_idTechSSDs.copy()\n",
    "df_temp[\"AFR_SSDs\"] = df_temp[\"AFR_SSDs\"]*100\n",
    "\n",
    "ax = sns.histplot(\n",
    "    df_temp,\n",
    "    x='app',\n",
    "    # Use the value variable here to turn histogram counts into weighted\n",
    "    # values.\n",
    "    weights='AFR_SSDs',\n",
    "    hue='tech',\n",
    "    multiple='stack',\n",
    "    #palette='Spectral',\n",
    "    #palette='icefire',\n",
    "    #palette='husl',\n",
    "    palette = 'Set2',\n",
    "    # Add white borders to the bars.\n",
    "    edgecolor='white',\n",
    "    # Shrink the bars a bit so they don't touch.\n",
    "    shrink=0.85,\n",
    "    hue_order = ['MLC','3D-TLC']\n",
    ")\n",
    "ax.figure.set_figwidth(14.87) # increasing the figure width\n",
    "ax.figure.set_figheight(7.7)\n",
    "#ax.set_title('Tips by Day and Gender')\n",
    "# Remove 'Count' ylabel.\n",
    "ax.set_ylabel(\"AFR (%)\")"
   ]
  },
  {
   "cell_type": "code",
   "execution_count": 240,
   "metadata": {},
   "outputs": [
    {
     "data": {
      "image/png": "[encoded data removed]",
      "text/plain": [
       "<Figure size 1070.64x410.4 with 1 Axes>"
      ]
     },
     "metadata": {
      "needs_background": "light"
     },
     "output_type": "display_data"
    }
   ],
   "source": [
    "### To plot the AFR per SSD flash capacity for each application\n",
    "\n",
    "df_temp3Plot = df_idCapacitySSDs.copy()\n",
    "df_temp3Plot[\"AFR_SSDs\"] = df_temp3Plot[\"AFR_SSDs\"]*100\n",
    "graph = sns.barplot(x = \"app\", y = 'AFR_SSDs', palette = 'Spectral', hue = 'capacity', data = df_temp3Plot, hue_order = ['240GB','480GB','800GB','960GB','1920GB'])\n",
    "\n",
    "#for container in graph.containers:\n",
    "#    graph.bar_label(container, label_type='edge')\n",
    "\n",
    "\n",
    "graph.set_ylabel(\"AFR (%)\")\n",
    "graph.axhline(df_general_AFRMTTF.loc[df_general_AFRMTTF['FailedSSDsSet'] == 'FailedSSDs', 'AFR_General'].values[0]*100)\n",
    "graph.figure.set_figwidth(14.87) # increasing the figure width\n",
    "graph.figure.set_figheight(5.7)\n",
    "[graph.axvline(x+.5,color='silver') for x in graph.get_xticks()]\n",
    "#sns.despine()\n",
    "plt.show()"
   ]
  },
  {
   "cell_type": "code",
   "execution_count": 243,
   "metadata": {},
   "outputs": [
    {
     "data": {
      "text/plain": [
       "Text(0, 0.5, 'AFR (%)')"
      ]
     },
     "execution_count": 243,
     "metadata": {},
     "output_type": "execute_result"
    },
    {
     "data": {
      "image/png": "[encoded data removed]",
      "text/plain": [
       "<Figure size 1070.64x554.4 with 1 Axes>"
      ]
     },
     "metadata": {
      "needs_background": "light"
     },
     "output_type": "display_data"
    }
   ],
   "source": [
    "### To plot the AFR per SSD flash capacity for each application using stacking approach\n",
    "\n",
    "df_temp = df_idCapacitySSDs.copy()\n",
    "df_temp[\"AFR_SSDs\"] = df_temp[\"AFR_SSDs\"]*100\n",
    "\n",
    "ax = sns.histplot(\n",
    "    df_temp,\n",
    "    x='app',\n",
    "    # Use the value variable here to turn histogram counts into weighted\n",
    "    # values.\n",
    "    weights='AFR_SSDs',\n",
    "    hue='capacity',\n",
    "    multiple='stack',\n",
    "    #palette='Spectral',\n",
    "    #palette='icefire',\n",
    "    #palette='husl',\n",
    "    palette = 'Spectral',\n",
    "    # Add white borders to the bars.\n",
    "    edgecolor='white',\n",
    "    # Shrink the bars a bit so they don't touch.\n",
    "    shrink=0.85,\n",
    "    hue_order = ['240GB','480GB','800GB','960GB','1920GB']\n",
    ")\n",
    "ax.figure.set_figwidth(14.87) # increasing the figure width\n",
    "ax.figure.set_figheight(7.7)\n",
    "#ax.set_title('Tips by Day and Gender')\n",
    "# Remove 'Count' ylabel.\n",
    "ax.set_ylabel(\"AFR (%)\")"
   ]
  },
  {
   "cell_type": "code",
   "execution_count": 244,
   "metadata": {},
   "outputs": [
    {
     "data": {
      "image/png": "[encoded data removed]",
      "text/plain": [
       "<Figure size 1070.64x410.4 with 1 Axes>"
      ]
     },
     "metadata": {
      "needs_background": "light"
     },
     "output_type": "display_data"
    }
   ],
   "source": [
    "### To plot the AFR per SSD flash lithography for each application\n",
    "\n",
    "df_temp3Plot = df_idLitSSDs.copy()\n",
    "df_temp3Plot[\"AFR_SSDs\"] = df_temp3Plot[\"AFR_SSDs\"]*100\n",
    "graph = sns.barplot(x = \"app\", y = 'AFR_SSDs', palette = 'Spectral', hue = 'lithography', data = df_temp3Plot, hue_order = ['16nm','19nm','20nm','21nm','24nm','V1'])\n",
    "\n",
    "#for container in graph.containers:\n",
    "#    graph.bar_label(container, label_type='edge')\n",
    "\n",
    "\n",
    "graph.set_ylabel(\"AFR (%)\")\n",
    "graph.axhline(df_general_AFRMTTF.loc[df_general_AFRMTTF['FailedSSDsSet'] == 'FailedSSDs', 'AFR_General'].values[0]*100)\n",
    "graph.figure.set_figwidth(14.87) # increasing the figure width\n",
    "graph.figure.set_figheight(5.7)\n",
    "[graph.axvline(x+.5,color='silver') for x in graph.get_xticks()]\n",
    "#sns.despine()\n",
    "plt.show()"
   ]
  },
  {
   "cell_type": "code",
   "execution_count": 245,
   "metadata": {},
   "outputs": [
    {
     "data": {
      "text/plain": [
       "Text(0, 0.5, 'AFR (%)')"
      ]
     },
     "execution_count": 245,
     "metadata": {},
     "output_type": "execute_result"
    },
    {
     "data": {
      "image/png": "[encoded data removed]",
      "text/plain": [
       "<Figure size 1070.64x554.4 with 1 Axes>"
      ]
     },
     "metadata": {
      "needs_background": "light"
     },
     "output_type": "display_data"
    }
   ],
   "source": [
    "### To plot the AFR per SSD flash lithography for each application using stacking approach\n",
    "\n",
    "df_temp = df_idLitSSDs.copy()\n",
    "df_temp[\"AFR_SSDs\"] = df_temp[\"AFR_SSDs\"]*100\n",
    "\n",
    "ax = sns.histplot(\n",
    "    df_temp,\n",
    "    x='app',\n",
    "    # Use the value variable here to turn histogram counts into weighted\n",
    "    # values.\n",
    "    weights='AFR_SSDs',\n",
    "    hue='lithography',\n",
    "    multiple='stack',\n",
    "    #palette='Spectral',\n",
    "    #palette='icefire',\n",
    "    #palette='husl',\n",
    "    palette = 'Spectral',\n",
    "    # Add white borders to the bars.\n",
    "    edgecolor='white',\n",
    "    # Shrink the bars a bit so they don't touch.\n",
    "    shrink=0.85,\n",
    "    hue_order = ['16nm','19nm','20nm','21nm','24nm','V1']\n",
    ")\n",
    "ax.figure.set_figwidth(14.87) # increasing the figure width\n",
    "ax.figure.set_figheight(7.7)\n",
    "#ax.set_title('Tips by Day and Gender')\n",
    "# Remove 'Count' ylabel.\n",
    "ax.set_ylabel(\"AFR (%)\")"
   ]
  },
  {
   "cell_type": "markdown",
   "metadata": {},
   "source": [
    "### Plotting the AFRs and MTTFs per app - considering # ssds per app and # all ssds in this experiment"
   ]
  },
  {
   "cell_type": "code",
   "execution_count": 82,
   "metadata": {},
   "outputs": [
    {
     "data": {
      "image/png": "[encoded data removed]",
      "text/plain": [
       "<Figure size 432x288 with 1 Axes>"
      ]
     },
     "metadata": {
      "needs_background": "light"
     },
     "output_type": "display_data"
    }
   ],
   "source": [
    "#Creating a data frame to rearrange both AFRs and MTTF columns - creating the categorie/column spf_all: spf (specific) tl (total)\n",
    "df_plotAFRMTTFSPF = df_idAppsSSDs.loc[:,['app','AFR_SDDs', 'mttf_SDDs']]\n",
    "df_plotAFRMTTFTL = df_idAppsSSDs.loc[:,['app','AFR_SDDs_total','mttf_SDDs_total']]\n",
    "\n",
    "df_plotAFRMTTFSPF = df_plotAFRMTTFSPF.assign(spf_all='spf_ssds')\n",
    "df_plotAFRMTTFTL = df_plotAFRMTTFTL.assign(spf_all='all_ssds')\n",
    "df_plotAFRMTTFTL.rename(columns = {'AFR_SDDs_total':'AFR_SDDs', 'mttf_SDDs_total':'mttf_SDDs'}, inplace=True)\n",
    "\n",
    "df_plotAFRMTTFSPFTL = pd.concat([df_plotAFRMTTFSPF, df_plotAFRMTTFTL])\n",
    "df_plotAFRMTTFSPFTL[\"AFR_SDDs\"] = df_plotAFRMTTFSPFTL[\"AFR_SDDs\"]*100\n",
    "\n",
    "graph = sns.barplot(x = \"app\", y = 'AFR_SDDs', palette = 'hls', hue = 'spf_all', data = df_plotAFRMTTFSPFTL)\n",
    "graph.axhline(df_general_AFRMTTF.loc[df_general_AFRMTTF['FailedSSDsSet'] == 'FailedSSDs', 'AFR_General'].values[0]*100)\n",
    "plt.show()"
   ]
  },
  {
   "cell_type": "code",
   "execution_count": 72,
   "metadata": {},
   "outputs": [
    {
     "data": {
      "image/png": "[encoded data removed]",
      "text/plain": [
       "<Figure size 432x288 with 1 Axes>"
      ]
     },
     "metadata": {
      "needs_background": "light"
     },
     "output_type": "display_data"
    }
   ],
   "source": [
    "graph = sns.barplot(x = \"app\", y = 'mttf_SDDs', palette = 'hls', hue = 'spf_all', data = df_plotAFRMTTFSPFTL)\n",
    "graph.axhline(df_general_AFRMTTF.loc[df_general_AFRMTTF['FailedSSDsSet'] == 'FailedSSDs', 'MTTF_General'].values[0])\n",
    "plt.show()"
   ]
  },
  {
   "cell_type": "code",
   "execution_count": 397,
   "metadata": {},
   "outputs": [],
   "source": [
    "## Saving sorted failure time per app into csv to be used for probability distribution fitting (All failed SDDs)\n",
    "\n",
    "for i in id_apps:\n",
    "    \n",
    "    df_alibabasnapshot_toFitting = df_AlibabaSnapShot_FailuresAppsLocation.loc[df_AlibabaSnapShot_FailuresAppsLocation[\"app\"] == i, \"failure_time\"]\n",
    "    df_alibabasnapshot_toFitting.sort_values\n",
    "    df_alibabasnapshot_toFitting.to_csv('Snapshot_FailureTimesApp' + i + '.csv', header=None, index=None)\n",
    "\n",
    "df_alibabasnapshot_toFitting = df_AlibabaSnapShot_FailuresAppsLocation['failure_time']\n",
    "df_alibabasnapshot_toFitting.to_csv('Snapshot_FailureTimesApp' + 'All' + '.csv', header=None, index=None)"
   ]
  },
  {
   "cell_type": "code",
   "execution_count": 393,
   "metadata": {},
   "outputs": [],
   "source": [
    "## Saving sorted failure time per app into csv to be used for probability distribution fitting (SSDs in common)\n",
    "\n",
    "for i in id_apps:\n",
    "    \n",
    "    df_merge_toFitting_times = df_genMTTF_MergeDs_FailuresAppsLocation.loc[df_genMTTF_MergeDs_FailuresAppsLocation[\"app\"] == i, \"failure_time\"]\n",
    "    df_merge_toFitting_times.sort_values\n",
    "    df_merge_toFitting_times.to_csv('MergeSSDs_FailureTimesApp' + i + '.csv', header=None, index=None)"
   ]
  },
  {
   "cell_type": "code",
   "execution_count": 24,
   "metadata": {},
   "outputs": [],
   "source": [
    "# Investigating Flash technology (using general mttf equation approach)\n",
    "\n",
    "flashtech = pd.DataFrame({\n",
    "'model_y':['A3', 'A2', 'B3' , 'B2', 'C1', 'C2'],  \n",
    "'flash': ['MLC', 'MLC', 'MLC' , 'MLC', '3D-TLC', '3D-TLC']})\n",
    "\n",
    "df_flashtech = pd.merge(df_result, flashtech, how='left', on=['model_y'])\n",
    "\n",
    "df_flashtech = df_flashtech.groupby(['app','flash'])['failure_time'].mean()\n",
    "\n",
    "df_flashtech = pd.DataFrame(df_flashtech)\n",
    "\n",
    "df_flashtech.rename(columns = {'failure_time':'mttf_flash'}, inplace=True)\n",
    "\n",
    "df_flashtech.to_csv('flashtech.csv')\n",
    "#df_flashtech.head()\n"
   ]
  },
  {
   "cell_type": "code",
   "execution_count": 28,
   "metadata": {},
   "outputs": [],
   "source": [
    "# Investigating Capacity (using general mttf equation approach)\n",
    "\n",
    "capacity = pd.DataFrame({\n",
    "'model_y':['A3', 'A2', 'B3' , 'B2', 'C1', 'C2'],  \n",
    "'capacity': ['480GB', '800GB', '1920GB' , '1920GB', '1920GB', '960GB']})\n",
    "\n",
    "df_capacity = pd.merge(df_result, capacity, how='left', on=['model_y'])\n",
    "\n",
    "df_capacity = df_capacity.groupby(['app','capacity'])['failure_time'].mean()\n",
    "\n",
    "df_capacity = pd.DataFrame(df_capacity)\n",
    "\n",
    "df_capacity.rename(columns = {'failure_time':'mttf_capacity'}, inplace=True)\n",
    "\n",
    "df_capacity.to_csv('capacity.csv')\n",
    "#df_capacity.head(50)"
   ]
  },
  {
   "cell_type": "code",
   "execution_count": null,
   "metadata": {
    "scrolled": true
   },
   "outputs": [],
   "source": [
    "##  Creating Graphs (cell still in progress)\n",
    "\n",
    "fig = sns.catplot(x=\"app\", y=\"failure_time\", hue=\"model_x\", data=df_failuresLocationDocumentsJson,\n",
    "               row=\"node_id\", col=\"rack_id\", kind=\"bar\", ci=90, palette=\"Blues_d\", aspect=0.9, height=4.5\n",
    "                  , legend_out = True, margin_titles = True)\n",
    "\n",
    "fig.set_axis_labels(\"App\", \"MTTF\")\n",
    "fig.set_xticklabels([\"DAE\", \"DB\", \"NAS\", \"RM\", \"SS\", \"WPS\", \"WS\", \"WSM\", \"none\"])\n",
    "\n",
    "plt.savefig('teste.pdf', dpi=1200)"
   ]
  },
  {
   "cell_type": "code",
   "execution_count": null,
   "metadata": {},
   "outputs": [],
   "source": [
    "# Querying/Reading the SMARTAtt database (mongodb) filtering by a specific SSD (all cells below still in progress)\n",
    "\n",
    "smartDocuments = SMARTAtt.objects(disk_id=\"19015\").filter()\n",
    "\n",
    "jSon_smartDocumentsJson = json.loads(smartDocuments.to_json())\n",
    "df_smartDocumentsJson = pd.DataFrame.from_dict(jSon_smartDocumentsJson) \n",
    "\n",
    "df_smartDocumentsJson.head()"
   ]
  },
  {
   "cell_type": "code",
   "execution_count": null,
   "metadata": {},
   "outputs": [],
   "source": [
    "smartDocumentsDB = SMARTAtt.objects(disk_id=\"95341\").filter()\n",
    "\n",
    "jSon_smartDocumentsDBJson = json.loads(smartDocumentsDB.to_json())\n",
    "df_smartDocumentsDBJson = pd.DataFrame.from_dict(jSon_smartDocumentsDBJson) \n",
    "\n",
    "df_smartDocumentsDBJson.head()"
   ]
  },
  {
   "cell_type": "code",
   "execution_count": null,
   "metadata": {},
   "outputs": [],
   "source": [
    "smartDocumentsNAS = SMARTAtt.objects(disk_id=\"18144\").filter()\n",
    "\n",
    "jSon_smartDocumentsNASJson = json.loads(smartDocumentsNAS.to_json())\n",
    "df_smartDocumentsNASJson = pd.DataFrame.from_dict(jSon_smartDocumentsNASJson) \n",
    "\n",
    "df_smartDocumentsNASJson.head()"
   ]
  },
  {
   "cell_type": "code",
   "execution_count": null,
   "metadata": {},
   "outputs": [],
   "source": [
    "smartDocumentsRM = SMARTAtt.objects(disk_id=\"99516\").filter()\n",
    "\n",
    "jSon_smartDocumentsRMJson = json.loads(smartDocumentsRM.to_json())\n",
    "df_smartDocumentsRMJson = pd.DataFrame.from_dict(jSon_smartDocumentsRMJson) \n",
    "\n",
    "df_smartDocumentsRMJson.head()"
   ]
  },
  {
   "cell_type": "code",
   "execution_count": null,
   "metadata": {},
   "outputs": [],
   "source": [
    "smartDocumentsSS = SMARTAtt.objects(disk_id=\"199807\").filter()\n",
    "\n",
    "jSon_smartDocumentsSSJson = json.loads(smartDocumentsSS.to_json())\n",
    "df_smartDocumentsSSJson = pd.DataFrame.from_dict(jSon_smartDocumentsSSJson) \n",
    "\n",
    "df_smartDocumentsSSJson.head()"
   ]
  },
  {
   "cell_type": "code",
   "execution_count": null,
   "metadata": {},
   "outputs": [],
   "source": [
    "smartDocumentsWPS = SMARTAtt.objects(disk_id=\"30010\").filter()\n",
    "\n",
    "jSon_smartDocumentsWPSJson = json.loads(smartDocumentsWPS.to_json())\n",
    "df_smartDocumentsWPSJson = pd.DataFrame.from_dict(jSon_smartDocumentsWPSJson) \n",
    "\n",
    "df_smartDocumentsWPSJson.head()"
   ]
  },
  {
   "cell_type": "code",
   "execution_count": null,
   "metadata": {},
   "outputs": [],
   "source": [
    "smartDocumentsWS = SMARTAtt.objects(disk_id=\"17304\").filter()\n",
    "\n",
    "jSon_smartDocumentsWSJson = json.loads(smartDocumentsWS.to_json())\n",
    "df_smartDocumentsWSJson = pd.DataFrame.from_dict(jSon_smartDocumentsWSJson) \n",
    "\n",
    "df_smartDocumentsWSJson.head()"
   ]
  },
  {
   "cell_type": "code",
   "execution_count": null,
   "metadata": {},
   "outputs": [],
   "source": [
    "smartDocumentsWSM = SMARTAtt.objects(disk_id=\"29755\").filter()\n",
    "\n",
    "jSon_smartDocumentsWSMJson = json.loads(smartDocumentsWSM.to_json())\n",
    "df_smartDocumentsWSMJson = pd.DataFrame.from_dict(jSon_smartDocumentsWSMJson) \n",
    "\n",
    "df_smartDocumentsWSMJson.head()"
   ]
  },
  {
   "cell_type": "code",
   "execution_count": null,
   "metadata": {},
   "outputs": [],
   "source": [
    "smartDocumentsnone = SMARTAtt.objects(disk_id=\"12463\").filter()\n",
    "\n",
    "jSon_smartDocumentsnoneJson = json.loads(smartDocumentsnone.to_json())\n",
    "df_smartDocumentsnoneJson = pd.DataFrame.from_dict(jSon_smartDocumentsnoneJson) \n",
    "\n",
    "df_smartDocumentsnoneJson.head()"
   ]
  },
  {
   "cell_type": "code",
   "execution_count": 100,
   "metadata": {},
   "outputs": [],
   "source": [
    "#Mergin all smart attributes dataframes\n",
    "df_smartDocumentsTotal = pd.concat([df_smartDocumentsJson, df_smartDocumentsDBJson, df_smartDocumentsNASJson, df_smartDocumentsRMJson, df_smartDocumentsSSJson, df_smartDocumentsWPSJson, df_smartDocumentsWSJson, df_smartDocumentsWSMJson, df_smartDocumentsnoneJson])"
   ]
  },
  {
   "cell_type": "code",
   "execution_count": 105,
   "metadata": {},
   "outputs": [],
   "source": [
    "# Selecting the columns of interest\n",
    "df_smartDocumentsTotalFiltered = df_smartDocumentsTotal.loc[:,['disk_id', 'timestamp' , 'r_sectors', 'u_errors','n_b_written','n_b_read']]\n",
    "\n",
    "dicDateToString = json.dumps(list(df_smartDocumentsTotalFiltered['timestamp']))\n",
    "dicStringToJson = json.loads(dicDateToString)\n",
    "dicJsonToDf = pd.DataFrame.from_dict(dicStringToJson)\n",
    "df_smartDocumentsTotalFiltered['timestamp'] = dicJsonToDf['$date']\n",
    "\n",
    "#Subctracting by the initial time of the experiment and turning into hours\n",
    "df_smartDocumentsTotalFiltered['timestamp'] = df_smartDocumentsTotalFiltered.timestamp.sub(1514764800000)\n",
    "df_smartDocumentsTotalFiltered['timestamp'] = df_smartDocumentsTotalFiltered.timestamp.div(1000)\n",
    "df_smartDocumentsTotalFiltered['timestamp'] = df_smartDocumentsTotalFiltered.timestamp.div(60)\n",
    "\n",
    "# Relating to the correspodent app\n",
    "appAtt = pd.DataFrame({\n",
    "'disk_id':[19015, 95341, 18144 , 99516, 199807, 30010, 17304, 29755, 12463],  \n",
    "'app': ['DAE', 'DB', 'NAS', 'RM', 'SS', 'WPS', 'WS', 'WSM', 'none']})\n",
    "\n",
    "df_smartDocumentsTotalFiltered = pd.merge(df_smartDocumentsTotalFiltered, appAtt, how='left', on=['disk_id'])\n",
    "\n",
    "df_smartDocumentsTotalFiltered.to_csv('smartattributesanalysisMinutesApp.csv')\n",
    "#df_smartDocumentsTotalFiltered.tail(10)"
   ]
  },
  {
   "cell_type": "code",
   "execution_count": null,
   "metadata": {},
   "outputs": [],
   "source": [
    "df_smartDocumentsTotalFiltered.head()"
   ]
  },
  {
   "cell_type": "code",
   "execution_count": 318,
   "metadata": {},
   "outputs": [],
   "source": [
    "df_failuresLocationDocumentsJson.to_csv('failuresLocation.csv', index = None, header=True)"
   ]
  }
 ],
 "metadata": {
  "interpreter": {
   "hash": "916dbcbb3f70747c44a77c7bcd40155683ae19c65e1c03b4aa3499c5328201f1"
  },
  "kernelspec": {
   "display_name": "Python 3.8.10 64-bit",
   "language": "python",
   "name": "python3"
  },
  "language_info": {
   "codemirror_mode": {
    "name": "ipython",
    "version": 3
   },
   "file_extension": ".py",
   "mimetype": "text/x-python",
   "name": "python",
   "nbconvert_exporter": "python",
   "pygments_lexer": "ipython3",
   "version": "3.8.10"
  },
  "orig_nbformat": 4
 },
 "nbformat": 4,
 "nbformat_minor": 2
}
