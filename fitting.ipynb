{
 "cells": [
  {
   "cell_type": "code",
   "execution_count": null,
   "metadata": {},
   "outputs": [],
   "source": [
    "## reset specific variables (replace regular_expression by the variables of interest)\n",
    "#%reset_selective <regular_expression>\n",
    "\n",
    "# reset all variables\n",
    "%reset -f"
   ]
  },
  {
   "cell_type": "code",
   "execution_count": 1,
   "metadata": {},
   "outputs": [],
   "source": [
    "## Importing libraries\n",
    "\n",
    "from datetime import datetime, date, timedelta\n",
    "from array import *\n",
    "import numpy as np\n",
    "from pathlib import Path\n",
    "import matplotlib.pyplot as plt\n",
    "from pylab import savefig\n",
    "import seaborn as sns\n",
    "import pandas as pd\n",
    "import csv\n",
    "import json\n",
    "import datetime as dt\n",
    "from pymongo import MongoClient\n",
    "from mongoengine import *\n",
    "import time\n",
    "import math\n",
    "from scipy import stats\n",
    "from scipy.stats._continuous_distns import _distn_names as dt_names\n",
    "import warnings\n",
    "%matplotlib inline\n",
    "warnings.filterwarnings(\"ignore\")\n",
    "\n",
    "\n",
    "ksN = 100           # Kolmogorov-Smirnov KS test for goodness of fit: samples\n",
    "ALPHA = 0.05 \n"
   ]
  },
  {
   "cell_type": "code",
   "execution_count": 11,
   "metadata": {},
   "outputs": [
    {
     "data": {
      "text/plain": [
       "104"
      ]
     },
     "execution_count": 11,
     "metadata": {},
     "output_type": "execute_result"
    }
   ],
   "source": [
    "## Changing the distribution variable name to some much more intuitive\n",
    "distributions = dt_names\n",
    "\n",
    "#len(dt_names)"
   ]
  },
  {
   "cell_type": "code",
   "execution_count": null,
   "metadata": {},
   "outputs": [],
   "source": [
    "# KS test for goodness of fit\n",
    "\n",
    "def kstest(data, distname, paramtup):\n",
    "    ks = stats.kstest(data, distname, paramtup, ksN)[1]   # return p-value\n",
    "    return ks             # return p-value"
   ]
  },
  {
   "cell_type": "code",
   "execution_count": null,
   "metadata": {},
   "outputs": [],
   "source": [
    "# distribution fitter and call to KS test\n",
    "\n",
    "def fitdist(data, dist):    \n",
    "    fitted = dist.fit(data, floc=0.0)\n",
    "    ks = kstest(data, dist.name, fitted)\n",
    "    res = (dist.name, ks, *fitted)\n",
    "    return res"
   ]
  },
  {
   "cell_type": "code",
   "execution_count": null,
   "metadata": {},
   "outputs": [],
   "source": [
    "# call fitting function for all distributions in list\n",
    "res = [fitdist(data,D) for D in distributions]\n",
    "\n",
    "# convert the fitted list of tuples to dataframe\n",
    "pd.options.display.float_format = '{:,.3f}'.format\n",
    "df = pd.DataFrame(res, columns=[\"distribution\", \"KS p-value\", \"param1\", \"param2\", \"param3\", \"param4\", \"param5\"])\n",
    "df[\"distobj\"] = distributions\n",
    "df.sort_values(by=[\"KS p-value\"], inplace=True, ascending=False)\n",
    "df.reset_index(inplace=True)\n",
    "df.drop(\"index\", axis=1, inplace=True)\n",
    "df"
   ]
  },
  {
   "cell_type": "code",
   "execution_count": null,
   "metadata": {},
   "outputs": [],
   "source": [
    "def plot_fitted_pdf(df):\n",
    "    \n",
    "    N = len(df)\n",
    "    chrows = math.ceil(N/3)                    # how many rows of charts if 3 in a row\n",
    "    fig, ax = plt.subplots(chrows, 3, figsize=(20, 5 * chrows))\n",
    "    ax = ax.ravel()\n",
    "    dfRV = pd.DataFrame()\n",
    "\n",
    "    for i in df.index:\n",
    "\n",
    "        # D_row = df.iloc[i,:-1]\n",
    "        D_name = df.iloc[i,0]\n",
    "        D = df.iloc[i,7]\n",
    "        KSp = df.iloc[i,1]\n",
    "        params = df.iloc[i,2:7]    \n",
    "        params = [p for p in params if ~np.isnan(p)]\n",
    "\n",
    "        # calibrate x-axis by finding the 1% and 99% quantiles in percent point function\n",
    "        x = np.linspace(\n",
    "                    D.ppf(0.01, *params), \n",
    "                    D.ppf(0.99, *params), 100)\n",
    "\n",
    "        #fig, ax = plt.subplots(1, 1)\n",
    "        # plot histogram of actual observations\n",
    "        ax[i].hist(data, density=True, histtype='stepfilled', alpha=0.2)\n",
    "        # plot fitted distribution\n",
    "        rv = D(*params)\n",
    "        title = f'pdf {D_name}, with p(KS): {KSp:.2f}' \n",
    "        ax[i].plot(x, rv.pdf(x), 'r-', lw=2, label=title)\n",
    "        ax[i].legend(loc=\"upper right\", frameon=False)  "
   ]
  },
  {
   "cell_type": "code",
   "execution_count": null,
   "metadata": {},
   "outputs": [],
   "source": [
    "# from dataframe, select distributions with high KS p-value\n",
    "df_ks = df.loc[df[\"KS p-value\"] > ALPHA]\n",
    "print(df_ks.shape)\n",
    "print(\"Fitted Distributions with KS p-values > ALPHA:\")\n",
    "df_ks"
   ]
  },
  {
   "cell_type": "code",
   "execution_count": null,
   "metadata": {},
   "outputs": [],
   "source": [
    "# call the plotting function\n",
    "plot_fitted_pdf(df_ks)\n",
    "pass"
   ]
  },
  {
   "cell_type": "code",
   "execution_count": null,
   "metadata": {},
   "outputs": [],
   "source": [
    "# fitted distribution with highest p-value of KS test\n",
    "D_opt = df_ks.loc[df_ks[\"KS p-value\"].idxmax()]\n",
    "# D_opt[:-1]\n",
    "\n",
    "D_opt"
   ]
  },
  {
   "cell_type": "code",
   "execution_count": null,
   "metadata": {},
   "outputs": [],
   "source": [
    "# script takes this best fitting distribution and begins to works with it:\n",
    "# parameters\n",
    "\n",
    "print(D_opt.iloc[0])            # name\n",
    "DO = D_opt.iloc[7]              # distribution object\n",
    "\n",
    "params = D_opt.iloc[2:7]    \n",
    "params = [p for p in params if ~np.isnan(p)]\n",
    "params"
   ]
  },
  {
   "cell_type": "code",
   "execution_count": null,
   "metadata": {},
   "outputs": [],
   "source": [
    "# statistics of the best fitting distribution (4 moments)\n",
    "stats = DO.stats(*params, \"mvsk\")\n",
    "stat_names = [\"mean\", \"variance\", \"skew\", \"kurtosis\"]\n",
    "dict_stats = {k:v for k,v in zip(stat_names, stats)} \n",
    "_ = [print(k,\":\",f'{v:.4f}') for k,v in dict_stats.items()]"
   ]
  },
  {
   "cell_type": "code",
   "execution_count": null,
   "metadata": {},
   "outputs": [],
   "source": [
    "# CDF of a chosen x, here the mean\n",
    "x = dict_stats[\"mean\"]\n",
    "cdfx = DO.cdf(x, *params)\n",
    "cdfx"
   ]
  },
  {
   "cell_type": "code",
   "execution_count": null,
   "metadata": {},
   "outputs": [],
   "source": [
    "## EXAMPLE\n",
    "\n",
    "# mean time to failure\n",
    "print(f'{rv.mean():.0f}')"
   ]
  },
  {
   "cell_type": "code",
   "execution_count": null,
   "metadata": {},
   "outputs": [],
   "source": [
    "## EXAMPLE\n",
    "\n",
    "T = 20000\n",
    "\n",
    "cdfT = rv.cdf(T)           # cumulative failure rate after T hours\n",
    "\n",
    "svfT = 1 - cdfT\n",
    "svfT = rv.sf(T)\n",
    "\n",
    "dict_f = {\"at hours\":T, \"% cumulative failures\":cdfT, \"surviving % of all components\":svfT}\n",
    "_ = [print(k,\":\",f'{v:.3f}') for k,v in dict_f.items()]\n",
    "# svf % of all components will last at least T hours"
   ]
  },
  {
   "cell_type": "code",
   "execution_count": null,
   "metadata": {},
   "outputs": [],
   "source": [
    "## EXAMPLE\n",
    "\n",
    "# time to a cumulative failure rate of 1%\n",
    "\n",
    "q = 0.01\n",
    "ppfq = rv.ppf(q)           \n",
    "\n",
    "print(f'{ppfq:.0f}', \"hours\")"
   ]
  },
  {
   "cell_type": "code",
   "execution_count": null,
   "metadata": {},
   "outputs": [],
   "source": [
    "## EXAMPLE\n",
    "# properties of the beta distribution\n",
    "\n",
    "a, b = 2, 6\n",
    "\n",
    "x = beta.rvs(a, b, size=1000)\n",
    "\n",
    "fig, ax = plt.subplots(1, 1)\n",
    "ax.hist(x, density=True, histtype='stepfilled', alpha=0.2)\n",
    "ax.legend(loc='best', frameon=False)\n",
    "plt.show()\n",
    "pass"
   ]
  },
  {
   "cell_type": "code",
   "execution_count": null,
   "metadata": {},
   "outputs": [],
   "source": [
    "## EXAMPLE\n",
    "# statistics of the Beta(2,6) distribution\n",
    "m = beta.mean(a,b)\n",
    "v = beta.var(a,b)\n",
    "shp_a = beta.a\n",
    "shp_b = beta.b\n",
    "median = beta.median(a,b)\n",
    "\n",
    "dict_stats = {\"mean\":m, \"var\":v, \"shape a\":shp_a, \"shape b\":shp_b, \"median\":median}\n",
    "_ = [print(k,\":\",f'{v:.3f}') for k,v in dict_stats.items()]"
   ]
  },
  {
   "cell_type": "code",
   "execution_count": null,
   "metadata": {},
   "outputs": [],
   "source": [
    "## EXAMPLE\n",
    "# plot the pdf\n",
    "x = np.linspace(rv.ppf(0.01),\n",
    "                rv.ppf(0.99), 100)\n",
    "\n",
    "fig, ax = plt.subplots(1, 1)\n",
    "ax.plot(x, rv.pdf(x), 'r-', lw=5, alpha=0.6, label='beta pdf')\n",
    "pass"
   ]
  },
  {
   "cell_type": "code",
   "execution_count": null,
   "metadata": {},
   "outputs": [],
   "source": [
    "## EXAMPLE\n",
    "# plot the cdf\n",
    "\n",
    "fig, ax = plt.subplots(1, 1)\n",
    "ax.plot(x, rv.cdf(x), 'r-', lw=5, alpha=0.6, label='beta cdf')\n",
    "pass"
   ]
  },
  {
   "cell_type": "code",
   "execution_count": null,
   "metadata": {},
   "outputs": [],
   "source": [
    "## EXAMPLE\n",
    "# plot the inverse cdf or ppf\n",
    "\n",
    "q = np.linspace(0.0, 1.0, 100)\n",
    "\n",
    "fig, ax = plt.subplots(1, 1)\n",
    "ax.plot(q, rv.ppf(q), 'r-', lw=5, alpha=0.6, label='beta inverse cdf')\n",
    "pass"
   ]
  }
 ],
 "metadata": {
  "interpreter": {
   "hash": "916dbcbb3f70747c44a77c7bcd40155683ae19c65e1c03b4aa3499c5328201f1"
  },
  "kernelspec": {
   "display_name": "Python 3.8.10 64-bit",
   "language": "python",
   "name": "python3"
  },
  "language_info": {
   "codemirror_mode": {
    "name": "ipython",
    "version": 3
   },
   "file_extension": ".py",
   "mimetype": "text/x-python",
   "name": "python",
   "nbconvert_exporter": "python",
   "pygments_lexer": "ipython3",
   "version": "3.8.10"
  },
  "orig_nbformat": 4
 },
 "nbformat": 4,
 "nbformat_minor": 2
}
